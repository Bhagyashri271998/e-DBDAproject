{
  "nbformat": 4,
  "nbformat_minor": 5,
  "metadata": {
    "kernelspec": {
      "display_name": "Python 3",
      "language": "python",
      "name": "python3"
    },
    "language_info": {
      "codemirror_mode": {
        "name": "ipython",
        "version": 3
      },
      "file_extension": ".py",
      "mimetype": "text/x-python",
      "name": "python",
      "nbconvert_exporter": "python",
      "pygments_lexer": "ipython3",
      "version": "3.8.8"
    },
    "colab": {
      "name": "GENDER PAY GAP.ipynb",
      "provenance": []
    },
    "accelerator": "GPU"
  },
  "cells": [
    {
      "cell_type": "code",
      "metadata": {
        "id": "1711063b"
      },
      "source": [
        "import numpy as np\n",
        "import pandas as pd\n",
        "import matplotlib.pyplot as plt\n",
        "import seaborn as sns\n",
        "\n",
        "sns.set(color_codes=True)"
      ],
      "id": "1711063b",
      "execution_count": null,
      "outputs": []
    },
    {
      "cell_type": "code",
      "metadata": {
        "colab": {
          "base_uri": "https://localhost:8080/",
          "height": 423
        },
        "id": "42c18e05",
        "outputId": "a61151bc-0d65-4274-9510-7102c201e83c"
      },
      "source": [
        "gender_pay=pd.read_csv('gss_wages.csv')\n",
        "gender_pay"
      ],
      "id": "42c18e05",
      "execution_count": null,
      "outputs": [
        {
          "output_type": "execute_result",
          "data": {
            "text/html": [
              "<div>\n",
              "<style scoped>\n",
              "    .dataframe tbody tr th:only-of-type {\n",
              "        vertical-align: middle;\n",
              "    }\n",
              "\n",
              "    .dataframe tbody tr th {\n",
              "        vertical-align: top;\n",
              "    }\n",
              "\n",
              "    .dataframe thead th {\n",
              "        text-align: right;\n",
              "    }\n",
              "</style>\n",
              "<table border=\"1\" class=\"dataframe\">\n",
              "  <thead>\n",
              "    <tr style=\"text-align: right;\">\n",
              "      <th></th>\n",
              "      <th>year</th>\n",
              "      <th>realrinc</th>\n",
              "      <th>age</th>\n",
              "      <th>occ10</th>\n",
              "      <th>occrecode</th>\n",
              "      <th>prestg10</th>\n",
              "      <th>childs</th>\n",
              "      <th>wrkstat</th>\n",
              "      <th>gender</th>\n",
              "      <th>educcat</th>\n",
              "      <th>maritalcat</th>\n",
              "    </tr>\n",
              "  </thead>\n",
              "  <tbody>\n",
              "    <tr>\n",
              "      <th>0</th>\n",
              "      <td>1974</td>\n",
              "      <td>4935.0</td>\n",
              "      <td>21.0</td>\n",
              "      <td>5620.0</td>\n",
              "      <td>Office and Administrative Support</td>\n",
              "      <td>25.0</td>\n",
              "      <td>0.0</td>\n",
              "      <td>School</td>\n",
              "      <td>Male</td>\n",
              "      <td>High School</td>\n",
              "      <td>Married</td>\n",
              "    </tr>\n",
              "    <tr>\n",
              "      <th>1</th>\n",
              "      <td>1974</td>\n",
              "      <td>43178.0</td>\n",
              "      <td>41.0</td>\n",
              "      <td>2040.0</td>\n",
              "      <td>Professional</td>\n",
              "      <td>66.0</td>\n",
              "      <td>3.0</td>\n",
              "      <td>Full-Time</td>\n",
              "      <td>Male</td>\n",
              "      <td>Bachelor</td>\n",
              "      <td>Married</td>\n",
              "    </tr>\n",
              "    <tr>\n",
              "      <th>2</th>\n",
              "      <td>1974</td>\n",
              "      <td>NaN</td>\n",
              "      <td>83.0</td>\n",
              "      <td>NaN</td>\n",
              "      <td>NaN</td>\n",
              "      <td>NaN</td>\n",
              "      <td>2.0</td>\n",
              "      <td>Housekeeper</td>\n",
              "      <td>Female</td>\n",
              "      <td>Less Than High School</td>\n",
              "      <td>Widowed</td>\n",
              "    </tr>\n",
              "    <tr>\n",
              "      <th>3</th>\n",
              "      <td>1974</td>\n",
              "      <td>NaN</td>\n",
              "      <td>69.0</td>\n",
              "      <td>NaN</td>\n",
              "      <td>NaN</td>\n",
              "      <td>NaN</td>\n",
              "      <td>2.0</td>\n",
              "      <td>Housekeeper</td>\n",
              "      <td>Female</td>\n",
              "      <td>Less Than High School</td>\n",
              "      <td>Widowed</td>\n",
              "    </tr>\n",
              "    <tr>\n",
              "      <th>4</th>\n",
              "      <td>1974</td>\n",
              "      <td>18505.0</td>\n",
              "      <td>58.0</td>\n",
              "      <td>5820.0</td>\n",
              "      <td>Office and Administrative Support</td>\n",
              "      <td>37.0</td>\n",
              "      <td>0.0</td>\n",
              "      <td>Full-Time</td>\n",
              "      <td>Female</td>\n",
              "      <td>High School</td>\n",
              "      <td>Never Married</td>\n",
              "    </tr>\n",
              "    <tr>\n",
              "      <th>...</th>\n",
              "      <td>...</td>\n",
              "      <td>...</td>\n",
              "      <td>...</td>\n",
              "      <td>...</td>\n",
              "      <td>...</td>\n",
              "      <td>...</td>\n",
              "      <td>...</td>\n",
              "      <td>...</td>\n",
              "      <td>...</td>\n",
              "      <td>...</td>\n",
              "      <td>...</td>\n",
              "    </tr>\n",
              "    <tr>\n",
              "      <th>61692</th>\n",
              "      <td>2018</td>\n",
              "      <td>NaN</td>\n",
              "      <td>37.0</td>\n",
              "      <td>5700.0</td>\n",
              "      <td>Office and Administrative Support</td>\n",
              "      <td>47.0</td>\n",
              "      <td>2.0</td>\n",
              "      <td>Full-Time</td>\n",
              "      <td>Female</td>\n",
              "      <td>High School</td>\n",
              "      <td>Divorced</td>\n",
              "    </tr>\n",
              "    <tr>\n",
              "      <th>61693</th>\n",
              "      <td>2018</td>\n",
              "      <td>7377.5</td>\n",
              "      <td>75.0</td>\n",
              "      <td>4720.0</td>\n",
              "      <td>Sales</td>\n",
              "      <td>28.0</td>\n",
              "      <td>4.0</td>\n",
              "      <td>Part-Time</td>\n",
              "      <td>Female</td>\n",
              "      <td>High School</td>\n",
              "      <td>Married</td>\n",
              "    </tr>\n",
              "    <tr>\n",
              "      <th>61694</th>\n",
              "      <td>2018</td>\n",
              "      <td>1589.0</td>\n",
              "      <td>67.0</td>\n",
              "      <td>5140.0</td>\n",
              "      <td>Office and Administrative Support</td>\n",
              "      <td>40.0</td>\n",
              "      <td>3.0</td>\n",
              "      <td>Retired</td>\n",
              "      <td>Female</td>\n",
              "      <td>High School</td>\n",
              "      <td>Married</td>\n",
              "    </tr>\n",
              "    <tr>\n",
              "      <th>61695</th>\n",
              "      <td>2018</td>\n",
              "      <td>NaN</td>\n",
              "      <td>72.0</td>\n",
              "      <td>1540.0</td>\n",
              "      <td>Professional</td>\n",
              "      <td>47.0</td>\n",
              "      <td>2.0</td>\n",
              "      <td>Retired</td>\n",
              "      <td>Male</td>\n",
              "      <td>High School</td>\n",
              "      <td>Married</td>\n",
              "    </tr>\n",
              "    <tr>\n",
              "      <th>61696</th>\n",
              "      <td>2018</td>\n",
              "      <td>NaN</td>\n",
              "      <td>79.0</td>\n",
              "      <td>4020.0</td>\n",
              "      <td>Service</td>\n",
              "      <td>33.0</td>\n",
              "      <td>6.0</td>\n",
              "      <td>Housekeeper</td>\n",
              "      <td>Female</td>\n",
              "      <td>High School</td>\n",
              "      <td>Widowed</td>\n",
              "    </tr>\n",
              "  </tbody>\n",
              "</table>\n",
              "<p>61697 rows × 11 columns</p>\n",
              "</div>"
            ],
            "text/plain": [
              "       year  realrinc   age  ...  gender                educcat     maritalcat\n",
              "0      1974    4935.0  21.0  ...    Male            High School        Married\n",
              "1      1974   43178.0  41.0  ...    Male               Bachelor        Married\n",
              "2      1974       NaN  83.0  ...  Female  Less Than High School        Widowed\n",
              "3      1974       NaN  69.0  ...  Female  Less Than High School        Widowed\n",
              "4      1974   18505.0  58.0  ...  Female            High School  Never Married\n",
              "...     ...       ...   ...  ...     ...                    ...            ...\n",
              "61692  2018       NaN  37.0  ...  Female            High School       Divorced\n",
              "61693  2018    7377.5  75.0  ...  Female            High School        Married\n",
              "61694  2018    1589.0  67.0  ...  Female            High School        Married\n",
              "61695  2018       NaN  72.0  ...    Male            High School        Married\n",
              "61696  2018       NaN  79.0  ...  Female            High School        Widowed\n",
              "\n",
              "[61697 rows x 11 columns]"
            ]
          },
          "metadata": {},
          "execution_count": 2
        }
      ]
    },
    {
      "cell_type": "code",
      "metadata": {
        "colab": {
          "base_uri": "https://localhost:8080/"
        },
        "id": "1962082f",
        "outputId": "21388c80-27dd-45d3-fd40-e56472a457a7"
      },
      "source": [
        "gender_pay.shape"
      ],
      "id": "1962082f",
      "execution_count": null,
      "outputs": [
        {
          "output_type": "execute_result",
          "data": {
            "text/plain": [
              "(61697, 11)"
            ]
          },
          "metadata": {},
          "execution_count": 3
        }
      ]
    },
    {
      "cell_type": "code",
      "metadata": {
        "scrolled": true,
        "colab": {
          "base_uri": "https://localhost:8080/",
          "height": 206
        },
        "id": "2ec3401e",
        "outputId": "634c2c03-9a9e-4820-a982-727744c9dab5"
      },
      "source": [
        "gender_pay.head()"
      ],
      "id": "2ec3401e",
      "execution_count": null,
      "outputs": [
        {
          "output_type": "execute_result",
          "data": {
            "text/html": [
              "<div>\n",
              "<style scoped>\n",
              "    .dataframe tbody tr th:only-of-type {\n",
              "        vertical-align: middle;\n",
              "    }\n",
              "\n",
              "    .dataframe tbody tr th {\n",
              "        vertical-align: top;\n",
              "    }\n",
              "\n",
              "    .dataframe thead th {\n",
              "        text-align: right;\n",
              "    }\n",
              "</style>\n",
              "<table border=\"1\" class=\"dataframe\">\n",
              "  <thead>\n",
              "    <tr style=\"text-align: right;\">\n",
              "      <th></th>\n",
              "      <th>year</th>\n",
              "      <th>realrinc</th>\n",
              "      <th>age</th>\n",
              "      <th>occ10</th>\n",
              "      <th>occrecode</th>\n",
              "      <th>prestg10</th>\n",
              "      <th>childs</th>\n",
              "      <th>wrkstat</th>\n",
              "      <th>gender</th>\n",
              "      <th>educcat</th>\n",
              "      <th>maritalcat</th>\n",
              "    </tr>\n",
              "  </thead>\n",
              "  <tbody>\n",
              "    <tr>\n",
              "      <th>0</th>\n",
              "      <td>1974</td>\n",
              "      <td>4935.0</td>\n",
              "      <td>21.0</td>\n",
              "      <td>5620.0</td>\n",
              "      <td>Office and Administrative Support</td>\n",
              "      <td>25.0</td>\n",
              "      <td>0.0</td>\n",
              "      <td>School</td>\n",
              "      <td>Male</td>\n",
              "      <td>High School</td>\n",
              "      <td>Married</td>\n",
              "    </tr>\n",
              "    <tr>\n",
              "      <th>1</th>\n",
              "      <td>1974</td>\n",
              "      <td>43178.0</td>\n",
              "      <td>41.0</td>\n",
              "      <td>2040.0</td>\n",
              "      <td>Professional</td>\n",
              "      <td>66.0</td>\n",
              "      <td>3.0</td>\n",
              "      <td>Full-Time</td>\n",
              "      <td>Male</td>\n",
              "      <td>Bachelor</td>\n",
              "      <td>Married</td>\n",
              "    </tr>\n",
              "    <tr>\n",
              "      <th>2</th>\n",
              "      <td>1974</td>\n",
              "      <td>NaN</td>\n",
              "      <td>83.0</td>\n",
              "      <td>NaN</td>\n",
              "      <td>NaN</td>\n",
              "      <td>NaN</td>\n",
              "      <td>2.0</td>\n",
              "      <td>Housekeeper</td>\n",
              "      <td>Female</td>\n",
              "      <td>Less Than High School</td>\n",
              "      <td>Widowed</td>\n",
              "    </tr>\n",
              "    <tr>\n",
              "      <th>3</th>\n",
              "      <td>1974</td>\n",
              "      <td>NaN</td>\n",
              "      <td>69.0</td>\n",
              "      <td>NaN</td>\n",
              "      <td>NaN</td>\n",
              "      <td>NaN</td>\n",
              "      <td>2.0</td>\n",
              "      <td>Housekeeper</td>\n",
              "      <td>Female</td>\n",
              "      <td>Less Than High School</td>\n",
              "      <td>Widowed</td>\n",
              "    </tr>\n",
              "    <tr>\n",
              "      <th>4</th>\n",
              "      <td>1974</td>\n",
              "      <td>18505.0</td>\n",
              "      <td>58.0</td>\n",
              "      <td>5820.0</td>\n",
              "      <td>Office and Administrative Support</td>\n",
              "      <td>37.0</td>\n",
              "      <td>0.0</td>\n",
              "      <td>Full-Time</td>\n",
              "      <td>Female</td>\n",
              "      <td>High School</td>\n",
              "      <td>Never Married</td>\n",
              "    </tr>\n",
              "  </tbody>\n",
              "</table>\n",
              "</div>"
            ],
            "text/plain": [
              "   year  realrinc   age  ...  gender                educcat     maritalcat\n",
              "0  1974    4935.0  21.0  ...    Male            High School        Married\n",
              "1  1974   43178.0  41.0  ...    Male               Bachelor        Married\n",
              "2  1974       NaN  83.0  ...  Female  Less Than High School        Widowed\n",
              "3  1974       NaN  69.0  ...  Female  Less Than High School        Widowed\n",
              "4  1974   18505.0  58.0  ...  Female            High School  Never Married\n",
              "\n",
              "[5 rows x 11 columns]"
            ]
          },
          "metadata": {},
          "execution_count": 4
        }
      ]
    },
    {
      "cell_type": "code",
      "metadata": {
        "colab": {
          "base_uri": "https://localhost:8080/",
          "height": 206
        },
        "id": "4ed07082",
        "outputId": "aa3c5b29-baac-40f5-8eae-a40a468a0986"
      },
      "source": [
        "gender_pay.tail()"
      ],
      "id": "4ed07082",
      "execution_count": null,
      "outputs": [
        {
          "output_type": "execute_result",
          "data": {
            "text/html": [
              "<div>\n",
              "<style scoped>\n",
              "    .dataframe tbody tr th:only-of-type {\n",
              "        vertical-align: middle;\n",
              "    }\n",
              "\n",
              "    .dataframe tbody tr th {\n",
              "        vertical-align: top;\n",
              "    }\n",
              "\n",
              "    .dataframe thead th {\n",
              "        text-align: right;\n",
              "    }\n",
              "</style>\n",
              "<table border=\"1\" class=\"dataframe\">\n",
              "  <thead>\n",
              "    <tr style=\"text-align: right;\">\n",
              "      <th></th>\n",
              "      <th>year</th>\n",
              "      <th>realrinc</th>\n",
              "      <th>age</th>\n",
              "      <th>occ10</th>\n",
              "      <th>occrecode</th>\n",
              "      <th>prestg10</th>\n",
              "      <th>childs</th>\n",
              "      <th>wrkstat</th>\n",
              "      <th>gender</th>\n",
              "      <th>educcat</th>\n",
              "      <th>maritalcat</th>\n",
              "    </tr>\n",
              "  </thead>\n",
              "  <tbody>\n",
              "    <tr>\n",
              "      <th>61692</th>\n",
              "      <td>2018</td>\n",
              "      <td>NaN</td>\n",
              "      <td>37.0</td>\n",
              "      <td>5700.0</td>\n",
              "      <td>Office and Administrative Support</td>\n",
              "      <td>47.0</td>\n",
              "      <td>2.0</td>\n",
              "      <td>Full-Time</td>\n",
              "      <td>Female</td>\n",
              "      <td>High School</td>\n",
              "      <td>Divorced</td>\n",
              "    </tr>\n",
              "    <tr>\n",
              "      <th>61693</th>\n",
              "      <td>2018</td>\n",
              "      <td>7377.5</td>\n",
              "      <td>75.0</td>\n",
              "      <td>4720.0</td>\n",
              "      <td>Sales</td>\n",
              "      <td>28.0</td>\n",
              "      <td>4.0</td>\n",
              "      <td>Part-Time</td>\n",
              "      <td>Female</td>\n",
              "      <td>High School</td>\n",
              "      <td>Married</td>\n",
              "    </tr>\n",
              "    <tr>\n",
              "      <th>61694</th>\n",
              "      <td>2018</td>\n",
              "      <td>1589.0</td>\n",
              "      <td>67.0</td>\n",
              "      <td>5140.0</td>\n",
              "      <td>Office and Administrative Support</td>\n",
              "      <td>40.0</td>\n",
              "      <td>3.0</td>\n",
              "      <td>Retired</td>\n",
              "      <td>Female</td>\n",
              "      <td>High School</td>\n",
              "      <td>Married</td>\n",
              "    </tr>\n",
              "    <tr>\n",
              "      <th>61695</th>\n",
              "      <td>2018</td>\n",
              "      <td>NaN</td>\n",
              "      <td>72.0</td>\n",
              "      <td>1540.0</td>\n",
              "      <td>Professional</td>\n",
              "      <td>47.0</td>\n",
              "      <td>2.0</td>\n",
              "      <td>Retired</td>\n",
              "      <td>Male</td>\n",
              "      <td>High School</td>\n",
              "      <td>Married</td>\n",
              "    </tr>\n",
              "    <tr>\n",
              "      <th>61696</th>\n",
              "      <td>2018</td>\n",
              "      <td>NaN</td>\n",
              "      <td>79.0</td>\n",
              "      <td>4020.0</td>\n",
              "      <td>Service</td>\n",
              "      <td>33.0</td>\n",
              "      <td>6.0</td>\n",
              "      <td>Housekeeper</td>\n",
              "      <td>Female</td>\n",
              "      <td>High School</td>\n",
              "      <td>Widowed</td>\n",
              "    </tr>\n",
              "  </tbody>\n",
              "</table>\n",
              "</div>"
            ],
            "text/plain": [
              "       year  realrinc   age  ...  gender      educcat  maritalcat\n",
              "61692  2018       NaN  37.0  ...  Female  High School    Divorced\n",
              "61693  2018    7377.5  75.0  ...  Female  High School     Married\n",
              "61694  2018    1589.0  67.0  ...  Female  High School     Married\n",
              "61695  2018       NaN  72.0  ...    Male  High School     Married\n",
              "61696  2018       NaN  79.0  ...  Female  High School     Widowed\n",
              "\n",
              "[5 rows x 11 columns]"
            ]
          },
          "metadata": {},
          "execution_count": 5
        }
      ]
    },
    {
      "cell_type": "markdown",
      "metadata": {
        "id": "8a1aa8b7"
      },
      "source": [
        "#3. Checking the types of data"
      ],
      "id": "8a1aa8b7"
    },
    {
      "cell_type": "code",
      "metadata": {
        "colab": {
          "base_uri": "https://localhost:8080/"
        },
        "id": "d5f6020e",
        "outputId": "50d5f332-86a0-4559-a798-0edadac564ac"
      },
      "source": [
        "gender_pay.dtypes"
      ],
      "id": "d5f6020e",
      "execution_count": null,
      "outputs": [
        {
          "output_type": "execute_result",
          "data": {
            "text/plain": [
              "year            int64\n",
              "realrinc      float64\n",
              "age           float64\n",
              "occ10         float64\n",
              "occrecode      object\n",
              "prestg10      float64\n",
              "childs        float64\n",
              "wrkstat        object\n",
              "gender         object\n",
              "educcat        object\n",
              "maritalcat     object\n",
              "dtype: object"
            ]
          },
          "metadata": {},
          "execution_count": 6
        }
      ]
    },
    {
      "cell_type": "code",
      "metadata": {
        "id": "ce226e60"
      },
      "source": [
        "gender_pay=gender_pay.rename(columns={\"realrinc\": \"Income\", \"occ10\": \"occCode\", \"occrecode\": \"occupation\", \"educcat\": \"education\",\"maritalcat\": \"maritalstat\" })"
      ],
      "id": "ce226e60",
      "execution_count": null,
      "outputs": []
    },
    {
      "cell_type": "code",
      "metadata": {
        "colab": {
          "base_uri": "https://localhost:8080/",
          "height": 206
        },
        "id": "d3d6a5fa",
        "outputId": "10a0eafd-01dc-4804-903c-7b1cc005bc61"
      },
      "source": [
        "gender_pay.tail()"
      ],
      "id": "d3d6a5fa",
      "execution_count": null,
      "outputs": [
        {
          "output_type": "execute_result",
          "data": {
            "text/html": [
              "<div>\n",
              "<style scoped>\n",
              "    .dataframe tbody tr th:only-of-type {\n",
              "        vertical-align: middle;\n",
              "    }\n",
              "\n",
              "    .dataframe tbody tr th {\n",
              "        vertical-align: top;\n",
              "    }\n",
              "\n",
              "    .dataframe thead th {\n",
              "        text-align: right;\n",
              "    }\n",
              "</style>\n",
              "<table border=\"1\" class=\"dataframe\">\n",
              "  <thead>\n",
              "    <tr style=\"text-align: right;\">\n",
              "      <th></th>\n",
              "      <th>year</th>\n",
              "      <th>Income</th>\n",
              "      <th>age</th>\n",
              "      <th>occCode</th>\n",
              "      <th>occupation</th>\n",
              "      <th>prestg10</th>\n",
              "      <th>childs</th>\n",
              "      <th>wrkstat</th>\n",
              "      <th>gender</th>\n",
              "      <th>education</th>\n",
              "      <th>maritalstat</th>\n",
              "    </tr>\n",
              "  </thead>\n",
              "  <tbody>\n",
              "    <tr>\n",
              "      <th>61692</th>\n",
              "      <td>2018</td>\n",
              "      <td>NaN</td>\n",
              "      <td>37.0</td>\n",
              "      <td>5700.0</td>\n",
              "      <td>Office and Administrative Support</td>\n",
              "      <td>47.0</td>\n",
              "      <td>2.0</td>\n",
              "      <td>Full-Time</td>\n",
              "      <td>Female</td>\n",
              "      <td>High School</td>\n",
              "      <td>Divorced</td>\n",
              "    </tr>\n",
              "    <tr>\n",
              "      <th>61693</th>\n",
              "      <td>2018</td>\n",
              "      <td>7377.5</td>\n",
              "      <td>75.0</td>\n",
              "      <td>4720.0</td>\n",
              "      <td>Sales</td>\n",
              "      <td>28.0</td>\n",
              "      <td>4.0</td>\n",
              "      <td>Part-Time</td>\n",
              "      <td>Female</td>\n",
              "      <td>High School</td>\n",
              "      <td>Married</td>\n",
              "    </tr>\n",
              "    <tr>\n",
              "      <th>61694</th>\n",
              "      <td>2018</td>\n",
              "      <td>1589.0</td>\n",
              "      <td>67.0</td>\n",
              "      <td>5140.0</td>\n",
              "      <td>Office and Administrative Support</td>\n",
              "      <td>40.0</td>\n",
              "      <td>3.0</td>\n",
              "      <td>Retired</td>\n",
              "      <td>Female</td>\n",
              "      <td>High School</td>\n",
              "      <td>Married</td>\n",
              "    </tr>\n",
              "    <tr>\n",
              "      <th>61695</th>\n",
              "      <td>2018</td>\n",
              "      <td>NaN</td>\n",
              "      <td>72.0</td>\n",
              "      <td>1540.0</td>\n",
              "      <td>Professional</td>\n",
              "      <td>47.0</td>\n",
              "      <td>2.0</td>\n",
              "      <td>Retired</td>\n",
              "      <td>Male</td>\n",
              "      <td>High School</td>\n",
              "      <td>Married</td>\n",
              "    </tr>\n",
              "    <tr>\n",
              "      <th>61696</th>\n",
              "      <td>2018</td>\n",
              "      <td>NaN</td>\n",
              "      <td>79.0</td>\n",
              "      <td>4020.0</td>\n",
              "      <td>Service</td>\n",
              "      <td>33.0</td>\n",
              "      <td>6.0</td>\n",
              "      <td>Housekeeper</td>\n",
              "      <td>Female</td>\n",
              "      <td>High School</td>\n",
              "      <td>Widowed</td>\n",
              "    </tr>\n",
              "  </tbody>\n",
              "</table>\n",
              "</div>"
            ],
            "text/plain": [
              "       year  Income   age  ...  gender    education  maritalstat\n",
              "61692  2018     NaN  37.0  ...  Female  High School     Divorced\n",
              "61693  2018  7377.5  75.0  ...  Female  High School      Married\n",
              "61694  2018  1589.0  67.0  ...  Female  High School      Married\n",
              "61695  2018     NaN  72.0  ...    Male  High School      Married\n",
              "61696  2018     NaN  79.0  ...  Female  High School      Widowed\n",
              "\n",
              "[5 rows x 11 columns]"
            ]
          },
          "metadata": {},
          "execution_count": 8
        }
      ]
    },
    {
      "cell_type": "markdown",
      "metadata": {
        "id": "b19e3106"
      },
      "source": [
        "#Dropping the missing or null values."
      ],
      "id": "b19e3106"
    },
    {
      "cell_type": "code",
      "metadata": {
        "colab": {
          "base_uri": "https://localhost:8080/"
        },
        "id": "afd61beb",
        "outputId": "c6b7afba-74ef-4122-f87d-4659ff073ac3"
      },
      "source": [
        "print(gender_pay.isnull().sum())"
      ],
      "id": "afd61beb",
      "execution_count": null,
      "outputs": [
        {
          "output_type": "stream",
          "name": "stdout",
          "text": [
            "year               0\n",
            "Income         23810\n",
            "age              219\n",
            "occCode         3561\n",
            "occupation      3561\n",
            "prestg10        4186\n",
            "childs           189\n",
            "wrkstat           21\n",
            "gender             0\n",
            "education        135\n",
            "maritalstat       27\n",
            "dtype: int64\n"
          ]
        }
      ]
    },
    {
      "cell_type": "markdown",
      "metadata": {
        "id": "61e7d863"
      },
      "source": [
        "#Detecting Outliers"
      ],
      "id": "61e7d863"
    },
    {
      "cell_type": "code",
      "metadata": {
        "colab": {
          "base_uri": "https://localhost:8080/",
          "height": 302
        },
        "id": "37d8237b",
        "outputId": "c630540c-f610-4234-b2d2-20a56d5b66f1"
      },
      "source": [
        "sns.boxplot(x=gender_pay[\"age\"])"
      ],
      "id": "37d8237b",
      "execution_count": null,
      "outputs": [
        {
          "output_type": "execute_result",
          "data": {
            "text/plain": [
              "<matplotlib.axes._subplots.AxesSubplot at 0x7f738e756610>"
            ]
          },
          "metadata": {},
          "execution_count": 10
        },
        {
          "output_type": "display_data",
          "data": {
            "image/png": "[encoded data removed]",
            "text/plain": [
              "<Figure size 432x288 with 1 Axes>"
            ]
          },
          "metadata": {
            "needs_background": "light"
          }
        }
      ]
    },
    {
      "cell_type": "code",
      "metadata": {
        "id": "1e40ee3f"
      },
      "source": [
        "gender_pay = gender_pay.dropna(subset=['Income'])\n"
      ],
      "id": "1e40ee3f",
      "execution_count": null,
      "outputs": []
    },
    {
      "cell_type": "code",
      "metadata": {
        "colab": {
          "base_uri": "https://localhost:8080/",
          "height": 357
        },
        "id": "0d2afeff",
        "outputId": "a9298174-7fbc-4347-eb48-1835b174f445"
      },
      "source": [
        "gender_pay.year.value_counts().nlargest(40).plot(kind=\"bar\", figsize=(10,5))\n",
        "plt.ylabel(\"Income\")\n",
        "plt.xlabel(\"year\");"
      ],
      "id": "0d2afeff",
      "execution_count": null,
      "outputs": [
        {
          "output_type": "display_data",
          "data": {
            "image/png": "[encoded data removed]",
            "text/plain": [
              "<Figure size 720x360 with 1 Axes>"
            ]
          },
          "metadata": {
            "needs_background": "light"
          }
        }
      ]
    },
    {
      "cell_type": "markdown",
      "metadata": {
        "id": "a0073ab4"
      },
      "source": [
        "# Finding the relations between the variables."
      ],
      "id": "a0073ab4"
    },
    {
      "cell_type": "code",
      "metadata": {
        "colab": {
          "base_uri": "https://localhost:8080/"
        },
        "id": "d651aa47",
        "outputId": "457dc20a-7ded-48a9-9525-656601c7574e"
      },
      "source": [
        "corr=gender_pay.corr()\n",
        "print(corr)"
      ],
      "id": "d651aa47",
      "execution_count": null,
      "outputs": [
        {
          "output_type": "stream",
          "name": "stdout",
          "text": [
            "              year    Income       age   occCode  prestg10    childs\n",
            "year      1.000000  0.067716  0.121718 -0.138381  0.049356 -0.050654\n",
            "Income    0.067716  1.000000  0.157973 -0.190940  0.293627  0.044959\n",
            "age       0.121718  0.157973  1.000000 -0.074998  0.095023  0.411074\n",
            "occCode  -0.138381 -0.190940 -0.074998  1.000000 -0.508577  0.065759\n",
            "prestg10  0.049356  0.293627  0.095023 -0.508577  1.000000 -0.036090\n",
            "childs   -0.050654  0.044959  0.411074  0.065759 -0.036090  1.000000\n"
          ]
        }
      ]
    },
    {
      "cell_type": "code",
      "metadata": {
        "colab": {
          "base_uri": "https://localhost:8080/",
          "height": 818
        },
        "id": "95e6fcf7",
        "outputId": "298e2a7b-364a-4d30-d871-4ce7f3aa0741"
      },
      "source": [
        "plt.figure(figsize=(20,10))\n",
        "c= gender_pay.corr()\n",
        "sns.heatmap(c,cmap=\"BrBG\",annot=True)\n",
        "c"
      ],
      "id": "95e6fcf7",
      "execution_count": null,
      "outputs": [
        {
          "output_type": "execute_result",
          "data": {
            "text/html": [
              "<div>\n",
              "<style scoped>\n",
              "    .dataframe tbody tr th:only-of-type {\n",
              "        vertical-align: middle;\n",
              "    }\n",
              "\n",
              "    .dataframe tbody tr th {\n",
              "        vertical-align: top;\n",
              "    }\n",
              "\n",
              "    .dataframe thead th {\n",
              "        text-align: right;\n",
              "    }\n",
              "</style>\n",
              "<table border=\"1\" class=\"dataframe\">\n",
              "  <thead>\n",
              "    <tr style=\"text-align: right;\">\n",
              "      <th></th>\n",
              "      <th>year</th>\n",
              "      <th>Income</th>\n",
              "      <th>age</th>\n",
              "      <th>occCode</th>\n",
              "      <th>prestg10</th>\n",
              "      <th>childs</th>\n",
              "    </tr>\n",
              "  </thead>\n",
              "  <tbody>\n",
              "    <tr>\n",
              "      <th>year</th>\n",
              "      <td>1.000000</td>\n",
              "      <td>0.067716</td>\n",
              "      <td>0.121718</td>\n",
              "      <td>-0.138381</td>\n",
              "      <td>0.049356</td>\n",
              "      <td>-0.050654</td>\n",
              "    </tr>\n",
              "    <tr>\n",
              "      <th>Income</th>\n",
              "      <td>0.067716</td>\n",
              "      <td>1.000000</td>\n",
              "      <td>0.157973</td>\n",
              "      <td>-0.190940</td>\n",
              "      <td>0.293627</td>\n",
              "      <td>0.044959</td>\n",
              "    </tr>\n",
              "    <tr>\n",
              "      <th>age</th>\n",
              "      <td>0.121718</td>\n",
              "      <td>0.157973</td>\n",
              "      <td>1.000000</td>\n",
              "      <td>-0.074998</td>\n",
              "      <td>0.095023</td>\n",
              "      <td>0.411074</td>\n",
              "    </tr>\n",
              "    <tr>\n",
              "      <th>occCode</th>\n",
              "      <td>-0.138381</td>\n",
              "      <td>-0.190940</td>\n",
              "      <td>-0.074998</td>\n",
              "      <td>1.000000</td>\n",
              "      <td>-0.508577</td>\n",
              "      <td>0.065759</td>\n",
              "    </tr>\n",
              "    <tr>\n",
              "      <th>prestg10</th>\n",
              "      <td>0.049356</td>\n",
              "      <td>0.293627</td>\n",
              "      <td>0.095023</td>\n",
              "      <td>-0.508577</td>\n",
              "      <td>1.000000</td>\n",
              "      <td>-0.036090</td>\n",
              "    </tr>\n",
              "    <tr>\n",
              "      <th>childs</th>\n",
              "      <td>-0.050654</td>\n",
              "      <td>0.044959</td>\n",
              "      <td>0.411074</td>\n",
              "      <td>0.065759</td>\n",
              "      <td>-0.036090</td>\n",
              "      <td>1.000000</td>\n",
              "    </tr>\n",
              "  </tbody>\n",
              "</table>\n",
              "</div>"
            ],
            "text/plain": [
              "              year    Income       age   occCode  prestg10    childs\n",
              "year      1.000000  0.067716  0.121718 -0.138381  0.049356 -0.050654\n",
              "Income    0.067716  1.000000  0.157973 -0.190940  0.293627  0.044959\n",
              "age       0.121718  0.157973  1.000000 -0.074998  0.095023  0.411074\n",
              "occCode  -0.138381 -0.190940 -0.074998  1.000000 -0.508577  0.065759\n",
              "prestg10  0.049356  0.293627  0.095023 -0.508577  1.000000 -0.036090\n",
              "childs   -0.050654  0.044959  0.411074  0.065759 -0.036090  1.000000"
            ]
          },
          "metadata": {},
          "execution_count": 14
        },
        {
          "output_type": "display_data",
          "data": {
            "image/png": "[encoded data removed]",
            "text/plain": [
              "<Figure size 1440x720 with 2 Axes>"
            ]
          },
          "metadata": {
            "needs_background": "light"
          }
        }
      ]
    },
    {
      "cell_type": "code",
      "metadata": {
        "id": "COQ-zuwjzaky"
      },
      "source": [
        "mean_prest=gender_pay['prestg10'].where(gender_pay['wrkstat'] =='Housekeeper').mean()"
      ],
      "id": "COQ-zuwjzaky",
      "execution_count": null,
      "outputs": []
    },
    {
      "cell_type": "code",
      "metadata": {
        "colab": {
          "base_uri": "https://localhost:8080/"
        },
        "id": "78c150a6",
        "outputId": "5a9d01ea-a7ae-4464-8f01-0a0d9c6bb4d1"
      },
      "source": [
        "mean_prest"
      ],
      "id": "78c150a6",
      "execution_count": null,
      "outputs": [
        {
          "output_type": "execute_result",
          "data": {
            "text/plain": [
              "39.6651376146789"
            ]
          },
          "metadata": {},
          "execution_count": 16
        }
      ]
    },
    {
      "cell_type": "code",
      "metadata": {
        "id": "d730e8b7"
      },
      "source": [
        "gender_pay['prestg10'] = gender_pay['prestg10'].replace(np.nan, 39)\n"
      ],
      "id": "d730e8b7",
      "execution_count": null,
      "outputs": []
    },
    {
      "cell_type": "code",
      "metadata": {
        "colab": {
          "base_uri": "https://localhost:8080/",
          "height": 206
        },
        "id": "2f4aa629",
        "outputId": "b2b2ff23-c6d9-4944-a674-1d8fd7e7978d"
      },
      "source": [
        "gender_pay.head()"
      ],
      "id": "2f4aa629",
      "execution_count": null,
      "outputs": [
        {
          "output_type": "execute_result",
          "data": {
            "text/html": [
              "<div>\n",
              "<style scoped>\n",
              "    .dataframe tbody tr th:only-of-type {\n",
              "        vertical-align: middle;\n",
              "    }\n",
              "\n",
              "    .dataframe tbody tr th {\n",
              "        vertical-align: top;\n",
              "    }\n",
              "\n",
              "    .dataframe thead th {\n",
              "        text-align: right;\n",
              "    }\n",
              "</style>\n",
              "<table border=\"1\" class=\"dataframe\">\n",
              "  <thead>\n",
              "    <tr style=\"text-align: right;\">\n",
              "      <th></th>\n",
              "      <th>year</th>\n",
              "      <th>Income</th>\n",
              "      <th>age</th>\n",
              "      <th>occCode</th>\n",
              "      <th>occupation</th>\n",
              "      <th>prestg10</th>\n",
              "      <th>childs</th>\n",
              "      <th>wrkstat</th>\n",
              "      <th>gender</th>\n",
              "      <th>education</th>\n",
              "      <th>maritalstat</th>\n",
              "    </tr>\n",
              "  </thead>\n",
              "  <tbody>\n",
              "    <tr>\n",
              "      <th>0</th>\n",
              "      <td>1974</td>\n",
              "      <td>4935.0</td>\n",
              "      <td>21.0</td>\n",
              "      <td>5620.0</td>\n",
              "      <td>Office and Administrative Support</td>\n",
              "      <td>25.0</td>\n",
              "      <td>0.0</td>\n",
              "      <td>School</td>\n",
              "      <td>Male</td>\n",
              "      <td>High School</td>\n",
              "      <td>Married</td>\n",
              "    </tr>\n",
              "    <tr>\n",
              "      <th>1</th>\n",
              "      <td>1974</td>\n",
              "      <td>43178.0</td>\n",
              "      <td>41.0</td>\n",
              "      <td>2040.0</td>\n",
              "      <td>Professional</td>\n",
              "      <td>66.0</td>\n",
              "      <td>3.0</td>\n",
              "      <td>Full-Time</td>\n",
              "      <td>Male</td>\n",
              "      <td>Bachelor</td>\n",
              "      <td>Married</td>\n",
              "    </tr>\n",
              "    <tr>\n",
              "      <th>4</th>\n",
              "      <td>1974</td>\n",
              "      <td>18505.0</td>\n",
              "      <td>58.0</td>\n",
              "      <td>5820.0</td>\n",
              "      <td>Office and Administrative Support</td>\n",
              "      <td>37.0</td>\n",
              "      <td>0.0</td>\n",
              "      <td>Full-Time</td>\n",
              "      <td>Female</td>\n",
              "      <td>High School</td>\n",
              "      <td>Never Married</td>\n",
              "    </tr>\n",
              "    <tr>\n",
              "      <th>5</th>\n",
              "      <td>1974</td>\n",
              "      <td>22206.0</td>\n",
              "      <td>30.0</td>\n",
              "      <td>910.0</td>\n",
              "      <td>Business/Finance</td>\n",
              "      <td>45.0</td>\n",
              "      <td>0.0</td>\n",
              "      <td>School</td>\n",
              "      <td>Male</td>\n",
              "      <td>Bachelor</td>\n",
              "      <td>Married</td>\n",
              "    </tr>\n",
              "    <tr>\n",
              "      <th>6</th>\n",
              "      <td>1974</td>\n",
              "      <td>55515.0</td>\n",
              "      <td>48.0</td>\n",
              "      <td>230.0</td>\n",
              "      <td>Business/Finance</td>\n",
              "      <td>59.0</td>\n",
              "      <td>2.0</td>\n",
              "      <td>Full-Time</td>\n",
              "      <td>Male</td>\n",
              "      <td>Graduate</td>\n",
              "      <td>Married</td>\n",
              "    </tr>\n",
              "  </tbody>\n",
              "</table>\n",
              "</div>"
            ],
            "text/plain": [
              "   year   Income   age  occCode  ...    wrkstat  gender    education    maritalstat\n",
              "0  1974   4935.0  21.0   5620.0  ...     School    Male  High School        Married\n",
              "1  1974  43178.0  41.0   2040.0  ...  Full-Time    Male     Bachelor        Married\n",
              "4  1974  18505.0  58.0   5820.0  ...  Full-Time  Female  High School  Never Married\n",
              "5  1974  22206.0  30.0    910.0  ...     School    Male     Bachelor        Married\n",
              "6  1974  55515.0  48.0    230.0  ...  Full-Time    Male     Graduate        Married\n",
              "\n",
              "[5 rows x 11 columns]"
            ]
          },
          "metadata": {},
          "execution_count": 18
        }
      ]
    },
    {
      "cell_type": "code",
      "metadata": {
        "scrolled": true,
        "colab": {
          "base_uri": "https://localhost:8080/"
        },
        "id": "bf1b7722",
        "outputId": "a954b5d3-68fd-4998-b4ee-7ad6a8e31a0e"
      },
      "source": [
        "print(gender_pay.isnull().sum())"
      ],
      "id": "bf1b7722",
      "execution_count": null,
      "outputs": [
        {
          "output_type": "stream",
          "name": "stdout",
          "text": [
            "year            0\n",
            "Income          0\n",
            "age            62\n",
            "occCode        90\n",
            "occupation     90\n",
            "prestg10        0\n",
            "childs         78\n",
            "wrkstat         0\n",
            "gender          0\n",
            "education      41\n",
            "maritalstat     4\n",
            "dtype: int64\n"
          ]
        }
      ]
    },
    {
      "cell_type": "code",
      "metadata": {
        "colab": {
          "base_uri": "https://localhost:8080/"
        },
        "id": "3ee73591",
        "outputId": "6a48d133-ea4c-49e6-9cfb-6c4dd979c0bf"
      },
      "source": [
        "gender_pay.shape"
      ],
      "id": "3ee73591",
      "execution_count": null,
      "outputs": [
        {
          "output_type": "execute_result",
          "data": {
            "text/plain": [
              "(37887, 11)"
            ]
          },
          "metadata": {},
          "execution_count": 20
        }
      ]
    },
    {
      "cell_type": "code",
      "metadata": {
        "id": "58697caf"
      },
      "source": [
        "meanAge = gender_pay.groupby(['childs', 'gender'])['age'].median()"
      ],
      "id": "58697caf",
      "execution_count": null,
      "outputs": []
    },
    {
      "cell_type": "code",
      "metadata": {
        "colab": {
          "base_uri": "https://localhost:8080/"
        },
        "id": "6d21d4f4",
        "outputId": "a94d3e5e-9358-41bd-cff8-438272f4497b"
      },
      "source": [
        "meanAge"
      ],
      "id": "6d21d4f4",
      "execution_count": null,
      "outputs": [
        {
          "output_type": "execute_result",
          "data": {
            "text/plain": [
              "childs  gender\n",
              "0.0     Female    29.0\n",
              "        Male      30.0\n",
              "1.0     Female    36.0\n",
              "        Male      37.0\n",
              "2.0     Female    42.0\n",
              "        Male      44.0\n",
              "3.0     Female    44.0\n",
              "        Male      46.0\n",
              "4.0     Female    47.0\n",
              "        Male      48.0\n",
              "5.0     Female    49.0\n",
              "        Male      50.5\n",
              "6.0     Female    51.0\n",
              "        Male      53.0\n",
              "7.0     Female    54.0\n",
              "        Male      51.0\n",
              "8.0     Female    55.0\n",
              "        Male      53.5\n",
              "Name: age, dtype: float64"
            ]
          },
          "metadata": {},
          "execution_count": 22
        }
      ]
    },
    {
      "cell_type": "code",
      "metadata": {
        "colab": {
          "base_uri": "https://localhost:8080/",
          "height": 423
        },
        "id": "cf7210bf",
        "outputId": "a510a3be-6fd1-49e4-8f27-f40fa25dc3df"
      },
      "source": [
        "gender_pay.head()\n",
        "df=gender_pay\n",
        "df"
      ],
      "id": "cf7210bf",
      "execution_count": null,
      "outputs": [
        {
          "output_type": "execute_result",
          "data": {
            "text/html": [
              "<div>\n",
              "<style scoped>\n",
              "    .dataframe tbody tr th:only-of-type {\n",
              "        vertical-align: middle;\n",
              "    }\n",
              "\n",
              "    .dataframe tbody tr th {\n",
              "        vertical-align: top;\n",
              "    }\n",
              "\n",
              "    .dataframe thead th {\n",
              "        text-align: right;\n",
              "    }\n",
              "</style>\n",
              "<table border=\"1\" class=\"dataframe\">\n",
              "  <thead>\n",
              "    <tr style=\"text-align: right;\">\n",
              "      <th></th>\n",
              "      <th>year</th>\n",
              "      <th>Income</th>\n",
              "      <th>age</th>\n",
              "      <th>occCode</th>\n",
              "      <th>occupation</th>\n",
              "      <th>prestg10</th>\n",
              "      <th>childs</th>\n",
              "      <th>wrkstat</th>\n",
              "      <th>gender</th>\n",
              "      <th>education</th>\n",
              "      <th>maritalstat</th>\n",
              "    </tr>\n",
              "  </thead>\n",
              "  <tbody>\n",
              "    <tr>\n",
              "      <th>0</th>\n",
              "      <td>1974</td>\n",
              "      <td>4935.0</td>\n",
              "      <td>21.0</td>\n",
              "      <td>5620.0</td>\n",
              "      <td>Office and Administrative Support</td>\n",
              "      <td>25.0</td>\n",
              "      <td>0.0</td>\n",
              "      <td>School</td>\n",
              "      <td>Male</td>\n",
              "      <td>High School</td>\n",
              "      <td>Married</td>\n",
              "    </tr>\n",
              "    <tr>\n",
              "      <th>1</th>\n",
              "      <td>1974</td>\n",
              "      <td>43178.0</td>\n",
              "      <td>41.0</td>\n",
              "      <td>2040.0</td>\n",
              "      <td>Professional</td>\n",
              "      <td>66.0</td>\n",
              "      <td>3.0</td>\n",
              "      <td>Full-Time</td>\n",
              "      <td>Male</td>\n",
              "      <td>Bachelor</td>\n",
              "      <td>Married</td>\n",
              "    </tr>\n",
              "    <tr>\n",
              "      <th>4</th>\n",
              "      <td>1974</td>\n",
              "      <td>18505.0</td>\n",
              "      <td>58.0</td>\n",
              "      <td>5820.0</td>\n",
              "      <td>Office and Administrative Support</td>\n",
              "      <td>37.0</td>\n",
              "      <td>0.0</td>\n",
              "      <td>Full-Time</td>\n",
              "      <td>Female</td>\n",
              "      <td>High School</td>\n",
              "      <td>Never Married</td>\n",
              "    </tr>\n",
              "    <tr>\n",
              "      <th>5</th>\n",
              "      <td>1974</td>\n",
              "      <td>22206.0</td>\n",
              "      <td>30.0</td>\n",
              "      <td>910.0</td>\n",
              "      <td>Business/Finance</td>\n",
              "      <td>45.0</td>\n",
              "      <td>0.0</td>\n",
              "      <td>School</td>\n",
              "      <td>Male</td>\n",
              "      <td>Bachelor</td>\n",
              "      <td>Married</td>\n",
              "    </tr>\n",
              "    <tr>\n",
              "      <th>6</th>\n",
              "      <td>1974</td>\n",
              "      <td>55515.0</td>\n",
              "      <td>48.0</td>\n",
              "      <td>230.0</td>\n",
              "      <td>Business/Finance</td>\n",
              "      <td>59.0</td>\n",
              "      <td>2.0</td>\n",
              "      <td>Full-Time</td>\n",
              "      <td>Male</td>\n",
              "      <td>Graduate</td>\n",
              "      <td>Married</td>\n",
              "    </tr>\n",
              "    <tr>\n",
              "      <th>...</th>\n",
              "      <td>...</td>\n",
              "      <td>...</td>\n",
              "      <td>...</td>\n",
              "      <td>...</td>\n",
              "      <td>...</td>\n",
              "      <td>...</td>\n",
              "      <td>...</td>\n",
              "      <td>...</td>\n",
              "      <td>...</td>\n",
              "      <td>...</td>\n",
              "      <td>...</td>\n",
              "    </tr>\n",
              "    <tr>\n",
              "      <th>61684</th>\n",
              "      <td>2018</td>\n",
              "      <td>17025.0</td>\n",
              "      <td>54.0</td>\n",
              "      <td>3230.0</td>\n",
              "      <td>Professional</td>\n",
              "      <td>59.0</td>\n",
              "      <td>0.0</td>\n",
              "      <td>Full-Time</td>\n",
              "      <td>Female</td>\n",
              "      <td>Graduate</td>\n",
              "      <td>Married</td>\n",
              "    </tr>\n",
              "    <tr>\n",
              "      <th>61685</th>\n",
              "      <td>2018</td>\n",
              "      <td>4086.0</td>\n",
              "      <td>25.0</td>\n",
              "      <td>2710.0</td>\n",
              "      <td>Professional</td>\n",
              "      <td>58.0</td>\n",
              "      <td>0.0</td>\n",
              "      <td>Full-Time</td>\n",
              "      <td>Female</td>\n",
              "      <td>Bachelor</td>\n",
              "      <td>Never Married</td>\n",
              "    </tr>\n",
              "    <tr>\n",
              "      <th>61688</th>\n",
              "      <td>2018</td>\n",
              "      <td>14755.0</td>\n",
              "      <td>29.0</td>\n",
              "      <td>4760.0</td>\n",
              "      <td>Sales</td>\n",
              "      <td>31.0</td>\n",
              "      <td>0.0</td>\n",
              "      <td>Full-Time</td>\n",
              "      <td>Female</td>\n",
              "      <td>High School</td>\n",
              "      <td>Married</td>\n",
              "    </tr>\n",
              "    <tr>\n",
              "      <th>61693</th>\n",
              "      <td>2018</td>\n",
              "      <td>7377.5</td>\n",
              "      <td>75.0</td>\n",
              "      <td>4720.0</td>\n",
              "      <td>Sales</td>\n",
              "      <td>28.0</td>\n",
              "      <td>4.0</td>\n",
              "      <td>Part-Time</td>\n",
              "      <td>Female</td>\n",
              "      <td>High School</td>\n",
              "      <td>Married</td>\n",
              "    </tr>\n",
              "    <tr>\n",
              "      <th>61694</th>\n",
              "      <td>2018</td>\n",
              "      <td>1589.0</td>\n",
              "      <td>67.0</td>\n",
              "      <td>5140.0</td>\n",
              "      <td>Office and Administrative Support</td>\n",
              "      <td>40.0</td>\n",
              "      <td>3.0</td>\n",
              "      <td>Retired</td>\n",
              "      <td>Female</td>\n",
              "      <td>High School</td>\n",
              "      <td>Married</td>\n",
              "    </tr>\n",
              "  </tbody>\n",
              "</table>\n",
              "<p>37887 rows × 11 columns</p>\n",
              "</div>"
            ],
            "text/plain": [
              "       year   Income   age  ...  gender    education    maritalstat\n",
              "0      1974   4935.0  21.0  ...    Male  High School        Married\n",
              "1      1974  43178.0  41.0  ...    Male     Bachelor        Married\n",
              "4      1974  18505.0  58.0  ...  Female  High School  Never Married\n",
              "5      1974  22206.0  30.0  ...    Male     Bachelor        Married\n",
              "6      1974  55515.0  48.0  ...    Male     Graduate        Married\n",
              "...     ...      ...   ...  ...     ...          ...            ...\n",
              "61684  2018  17025.0  54.0  ...  Female     Graduate        Married\n",
              "61685  2018   4086.0  25.0  ...  Female     Bachelor  Never Married\n",
              "61688  2018  14755.0  29.0  ...  Female  High School        Married\n",
              "61693  2018   7377.5  75.0  ...  Female  High School        Married\n",
              "61694  2018   1589.0  67.0  ...  Female  High School        Married\n",
              "\n",
              "[37887 rows x 11 columns]"
            ]
          },
          "metadata": {},
          "execution_count": 23
        }
      ]
    },
    {
      "cell_type": "code",
      "metadata": {
        "id": "b2517038"
      },
      "source": [
        "df['age'].fillna(df.groupby(['childs','gender'])['age']. transform ('median'),inplace=True)"
      ],
      "id": "b2517038",
      "execution_count": null,
      "outputs": []
    },
    {
      "cell_type": "code",
      "metadata": {
        "colab": {
          "base_uri": "https://localhost:8080/"
        },
        "id": "00a69cb8",
        "outputId": "61b95624-1061-455d-9518-d79e40cfa787"
      },
      "source": [
        "print(df.isnull().sum())"
      ],
      "id": "00a69cb8",
      "execution_count": null,
      "outputs": [
        {
          "output_type": "stream",
          "name": "stdout",
          "text": [
            "year            0\n",
            "Income          0\n",
            "age             0\n",
            "occCode        90\n",
            "occupation     90\n",
            "prestg10        0\n",
            "childs         78\n",
            "wrkstat         0\n",
            "gender          0\n",
            "education      41\n",
            "maritalstat     4\n",
            "dtype: int64\n"
          ]
        }
      ]
    },
    {
      "cell_type": "code",
      "metadata": {
        "id": "89c4f229"
      },
      "source": [
        "meanchilds = gender_pay.groupby(['age', 'gender'])['childs'].median()"
      ],
      "id": "89c4f229",
      "execution_count": null,
      "outputs": []
    },
    {
      "cell_type": "code",
      "metadata": {
        "colab": {
          "base_uri": "https://localhost:8080/"
        },
        "id": "6b2aba08",
        "outputId": "317936c4-00fd-44cd-d35d-bccc4e034e1b"
      },
      "source": [
        "meanchilds\n"
      ],
      "id": "6b2aba08",
      "execution_count": null,
      "outputs": [
        {
          "output_type": "execute_result",
          "data": {
            "text/plain": [
              "age   gender\n",
              "18.0  Female    0.0\n",
              "      Male      0.0\n",
              "19.0  Female    0.0\n",
              "      Male      0.0\n",
              "20.0  Female    0.0\n",
              "               ... \n",
              "87.0  Male      3.0\n",
              "88.0  Female    0.0\n",
              "      Male      4.0\n",
              "89.0  Female    2.0\n",
              "      Male      2.0\n",
              "Name: childs, Length: 145, dtype: float64"
            ]
          },
          "metadata": {},
          "execution_count": 27
        }
      ]
    },
    {
      "cell_type": "code",
      "metadata": {
        "id": "OxQnP-jIktZK"
      },
      "source": [
        "df['childs'].fillna(df.groupby(['age','gender'])['childs']. transform ('median'),inplace=True)"
      ],
      "id": "OxQnP-jIktZK",
      "execution_count": null,
      "outputs": []
    },
    {
      "cell_type": "code",
      "metadata": {
        "colab": {
          "base_uri": "https://localhost:8080/"
        },
        "id": "5c6a6d39",
        "outputId": "9dde4c42-d8a7-4dbc-9de0-592411077798"
      },
      "source": [
        "print(df.isnull().sum())"
      ],
      "id": "5c6a6d39",
      "execution_count": null,
      "outputs": [
        {
          "output_type": "stream",
          "name": "stdout",
          "text": [
            "year            0\n",
            "Income          0\n",
            "age             0\n",
            "occCode        90\n",
            "occupation     90\n",
            "prestg10        0\n",
            "childs          0\n",
            "wrkstat         0\n",
            "gender          0\n",
            "education      41\n",
            "maritalstat     4\n",
            "dtype: int64\n"
          ]
        }
      ]
    },
    {
      "cell_type": "code",
      "metadata": {
        "colab": {
          "base_uri": "https://localhost:8080/",
          "height": 206
        },
        "id": "57d0d3bf",
        "outputId": "ff10961e-e293-4121-f038-c8f815a665a3"
      },
      "source": [
        "\n",
        "df.head()"
      ],
      "id": "57d0d3bf",
      "execution_count": null,
      "outputs": [
        {
          "output_type": "execute_result",
          "data": {
            "text/html": [
              "<div>\n",
              "<style scoped>\n",
              "    .dataframe tbody tr th:only-of-type {\n",
              "        vertical-align: middle;\n",
              "    }\n",
              "\n",
              "    .dataframe tbody tr th {\n",
              "        vertical-align: top;\n",
              "    }\n",
              "\n",
              "    .dataframe thead th {\n",
              "        text-align: right;\n",
              "    }\n",
              "</style>\n",
              "<table border=\"1\" class=\"dataframe\">\n",
              "  <thead>\n",
              "    <tr style=\"text-align: right;\">\n",
              "      <th></th>\n",
              "      <th>year</th>\n",
              "      <th>Income</th>\n",
              "      <th>age</th>\n",
              "      <th>occCode</th>\n",
              "      <th>occupation</th>\n",
              "      <th>prestg10</th>\n",
              "      <th>childs</th>\n",
              "      <th>wrkstat</th>\n",
              "      <th>gender</th>\n",
              "      <th>education</th>\n",
              "      <th>maritalstat</th>\n",
              "    </tr>\n",
              "  </thead>\n",
              "  <tbody>\n",
              "    <tr>\n",
              "      <th>0</th>\n",
              "      <td>1974</td>\n",
              "      <td>4935.0</td>\n",
              "      <td>21.0</td>\n",
              "      <td>5620.0</td>\n",
              "      <td>Office and Administrative Support</td>\n",
              "      <td>25.0</td>\n",
              "      <td>0.0</td>\n",
              "      <td>School</td>\n",
              "      <td>Male</td>\n",
              "      <td>High School</td>\n",
              "      <td>Married</td>\n",
              "    </tr>\n",
              "    <tr>\n",
              "      <th>1</th>\n",
              "      <td>1974</td>\n",
              "      <td>43178.0</td>\n",
              "      <td>41.0</td>\n",
              "      <td>2040.0</td>\n",
              "      <td>Professional</td>\n",
              "      <td>66.0</td>\n",
              "      <td>3.0</td>\n",
              "      <td>Full-Time</td>\n",
              "      <td>Male</td>\n",
              "      <td>Bachelor</td>\n",
              "      <td>Married</td>\n",
              "    </tr>\n",
              "    <tr>\n",
              "      <th>4</th>\n",
              "      <td>1974</td>\n",
              "      <td>18505.0</td>\n",
              "      <td>58.0</td>\n",
              "      <td>5820.0</td>\n",
              "      <td>Office and Administrative Support</td>\n",
              "      <td>37.0</td>\n",
              "      <td>0.0</td>\n",
              "      <td>Full-Time</td>\n",
              "      <td>Female</td>\n",
              "      <td>High School</td>\n",
              "      <td>Never Married</td>\n",
              "    </tr>\n",
              "    <tr>\n",
              "      <th>5</th>\n",
              "      <td>1974</td>\n",
              "      <td>22206.0</td>\n",
              "      <td>30.0</td>\n",
              "      <td>910.0</td>\n",
              "      <td>Business/Finance</td>\n",
              "      <td>45.0</td>\n",
              "      <td>0.0</td>\n",
              "      <td>School</td>\n",
              "      <td>Male</td>\n",
              "      <td>Bachelor</td>\n",
              "      <td>Married</td>\n",
              "    </tr>\n",
              "    <tr>\n",
              "      <th>6</th>\n",
              "      <td>1974</td>\n",
              "      <td>55515.0</td>\n",
              "      <td>48.0</td>\n",
              "      <td>230.0</td>\n",
              "      <td>Business/Finance</td>\n",
              "      <td>59.0</td>\n",
              "      <td>2.0</td>\n",
              "      <td>Full-Time</td>\n",
              "      <td>Male</td>\n",
              "      <td>Graduate</td>\n",
              "      <td>Married</td>\n",
              "    </tr>\n",
              "  </tbody>\n",
              "</table>\n",
              "</div>"
            ],
            "text/plain": [
              "   year   Income   age  occCode  ...    wrkstat  gender    education    maritalstat\n",
              "0  1974   4935.0  21.0   5620.0  ...     School    Male  High School        Married\n",
              "1  1974  43178.0  41.0   2040.0  ...  Full-Time    Male     Bachelor        Married\n",
              "4  1974  18505.0  58.0   5820.0  ...  Full-Time  Female  High School  Never Married\n",
              "5  1974  22206.0  30.0    910.0  ...     School    Male     Bachelor        Married\n",
              "6  1974  55515.0  48.0    230.0  ...  Full-Time    Male     Graduate        Married\n",
              "\n",
              "[5 rows x 11 columns]"
            ]
          },
          "metadata": {},
          "execution_count": 30
        }
      ]
    },
    {
      "cell_type": "code",
      "metadata": {
        "id": "85e447df"
      },
      "source": [
        "df = df.dropna(how='any',axis=0) "
      ],
      "id": "85e447df",
      "execution_count": null,
      "outputs": []
    },
    {
      "cell_type": "code",
      "metadata": {
        "colab": {
          "base_uri": "https://localhost:8080/"
        },
        "id": "85729200",
        "outputId": "09622b9a-0f2f-474f-8ba8-f0b7e22d2458"
      },
      "source": [
        "df.isnull().sum()"
      ],
      "id": "85729200",
      "execution_count": null,
      "outputs": [
        {
          "output_type": "execute_result",
          "data": {
            "text/plain": [
              "year           0\n",
              "Income         0\n",
              "age            0\n",
              "occCode        0\n",
              "occupation     0\n",
              "prestg10       0\n",
              "childs         0\n",
              "wrkstat        0\n",
              "gender         0\n",
              "education      0\n",
              "maritalstat    0\n",
              "dtype: int64"
            ]
          },
          "metadata": {},
          "execution_count": 32
        }
      ]
    },
    {
      "cell_type": "code",
      "metadata": {
        "colab": {
          "base_uri": "https://localhost:8080/"
        },
        "id": "9b55c496",
        "outputId": "07072b42-1dbe-451f-8a54-200197b17342"
      },
      "source": [
        "df.shape"
      ],
      "id": "9b55c496",
      "execution_count": null,
      "outputs": [
        {
          "output_type": "execute_result",
          "data": {
            "text/plain": [
              "(37752, 11)"
            ]
          },
          "metadata": {},
          "execution_count": 33
        }
      ]
    },
    {
      "cell_type": "code",
      "metadata": {
        "colab": {
          "base_uri": "https://localhost:8080/"
        },
        "id": "8d0ee934",
        "outputId": "fd8f7521-7925-404c-8ae1-9ac58cc0b2b2"
      },
      "source": [
        "df.dtypes"
      ],
      "id": "8d0ee934",
      "execution_count": null,
      "outputs": [
        {
          "output_type": "execute_result",
          "data": {
            "text/plain": [
              "year             int64\n",
              "Income         float64\n",
              "age            float64\n",
              "occCode        float64\n",
              "occupation      object\n",
              "prestg10       float64\n",
              "childs         float64\n",
              "wrkstat         object\n",
              "gender          object\n",
              "education       object\n",
              "maritalstat     object\n",
              "dtype: object"
            ]
          },
          "metadata": {},
          "execution_count": 34
        }
      ]
    },
    {
      "cell_type": "code",
      "metadata": {
        "id": "059b0c09"
      },
      "source": [
        "convert_dict = {'age': int,\n",
        "                'occCode': int,\n",
        "                'prestg10': int,\n",
        "                'childs':int\n",
        "              \n",
        "                }\n",
        "  \n",
        "df =df.astype(convert_dict)"
      ],
      "id": "059b0c09",
      "execution_count": null,
      "outputs": []
    },
    {
      "cell_type": "code",
      "metadata": {
        "colab": {
          "base_uri": "https://localhost:8080/"
        },
        "id": "3497d290",
        "outputId": "e4bc03f9-c87b-4506-ef01-0332837f1707"
      },
      "source": [
        "df.dtypes"
      ],
      "id": "3497d290",
      "execution_count": null,
      "outputs": [
        {
          "output_type": "execute_result",
          "data": {
            "text/plain": [
              "year             int64\n",
              "Income         float64\n",
              "age              int64\n",
              "occCode          int64\n",
              "occupation      object\n",
              "prestg10         int64\n",
              "childs           int64\n",
              "wrkstat         object\n",
              "gender          object\n",
              "education       object\n",
              "maritalstat     object\n",
              "dtype: object"
            ]
          },
          "metadata": {},
          "execution_count": 36
        }
      ]
    },
    {
      "cell_type": "code",
      "metadata": {
        "id": "25f285b0"
      },
      "source": [
        "import matplotlib.pyplot as plt\n",
        "plt.style.use('classic')\n",
        "%matplotlib inline"
      ],
      "id": "25f285b0",
      "execution_count": null,
      "outputs": []
    },
    {
      "cell_type": "code",
      "metadata": {
        "colab": {
          "base_uri": "https://localhost:8080/"
        },
        "id": "dcfdce4d",
        "outputId": "c82c386b-c5a0-4b4d-ba9d-3778c15bd657"
      },
      "source": [
        "df[\"occupation\"].value_counts()"
      ],
      "id": "dcfdce4d",
      "execution_count": null,
      "outputs": [
        {
          "output_type": "execute_result",
          "data": {
            "text/plain": [
              "Professional                             7798\n",
              "Service                                  6023\n",
              "Office and Administrative Support        5612\n",
              "Business/Finance                         4669\n",
              "Sales                                    3603\n",
              "Production                               3380\n",
              "Construction/Extraction                  2156\n",
              "Transportation                           2142\n",
              "Installation, Maintenance, and Repair    1376\n",
              "Armed Forces                              695\n",
              "Farming, Fishing, and Forestry            298\n",
              "Name: occupation, dtype: int64"
            ]
          },
          "metadata": {},
          "execution_count": 38
        }
      ]
    },
    {
      "cell_type": "code",
      "metadata": {
        "id": "5368aee1",
        "colab": {
          "base_uri": "https://localhost:8080/"
        },
        "outputId": "5106c999-ef00-4a6a-8006-394a0c26fc99"
      },
      "source": [
        "df[\"education\"].value_counts()"
      ],
      "id": "5368aee1",
      "execution_count": null,
      "outputs": [
        {
          "output_type": "execute_result",
          "data": {
            "text/plain": [
              "High School              20035\n",
              "Bachelor                  6660\n",
              "Less Than High School     4988\n",
              "Graduate                  3439\n",
              "Junior College            2630\n",
              "Name: education, dtype: int64"
            ]
          },
          "metadata": {},
          "execution_count": 39
        }
      ]
    },
    {
      "cell_type": "code",
      "metadata": {
        "id": "43cc7c4e",
        "colab": {
          "base_uri": "https://localhost:8080/"
        },
        "outputId": "c9dfe27e-c011-4097-e770-2032c0570ffa"
      },
      "source": [
        "df[\"wrkstat\"].value_counts()"
      ],
      "id": "43cc7c4e",
      "execution_count": null,
      "outputs": [
        {
          "output_type": "execute_result",
          "data": {
            "text/plain": [
              "Full-Time                  27061\n",
              "Part-Time                   5255\n",
              "Unemployed, Laid Off        1381\n",
              "Housekeeper                 1316\n",
              "Temporarily Not Working     1106\n",
              "Retired                      768\n",
              "School                       685\n",
              "Other                        180\n",
              "Name: wrkstat, dtype: int64"
            ]
          },
          "metadata": {},
          "execution_count": 40
        }
      ]
    },
    {
      "cell_type": "code",
      "metadata": {
        "id": "4e2c253c",
        "colab": {
          "base_uri": "https://localhost:8080/",
          "height": 314
        },
        "outputId": "4a3da979-9335-4449-e7fa-ce164f108d51"
      },
      "source": [
        "sns.set_theme(style=\"ticks\", color_codes=True)\n",
        "fig_dims = (16, 4)\n",
        "fig, ax = plt.subplots(figsize=fig_dims)\n",
        "sns.barplot(x = \"occupation\", y = \"Income\", ax=ax, data=df)"
      ],
      "id": "4e2c253c",
      "execution_count": null,
      "outputs": [
        {
          "output_type": "execute_result",
          "data": {
            "text/plain": [
              "<matplotlib.axes._subplots.AxesSubplot at 0x7f7385489750>"
            ]
          },
          "metadata": {},
          "execution_count": 41
        },
        {
          "output_type": "display_data",
          "data": {
            "image/png": "[encoded data removed]",
            "text/plain": [
              "<Figure size 1152x288 with 1 Axes>"
            ]
          },
          "metadata": {}
        }
      ]
    },
    {
      "cell_type": "code",
      "metadata": {
        "id": "a29a87ee",
        "colab": {
          "base_uri": "https://localhost:8080/",
          "height": 382
        },
        "outputId": "a1b651ab-cbf6-4d35-e830-913ebfed9856"
      },
      "source": [
        "sns.catplot(x = \"gender\", y = \"Income\", data=df)"
      ],
      "id": "a29a87ee",
      "execution_count": null,
      "outputs": [
        {
          "output_type": "execute_result",
          "data": {
            "text/plain": [
              "<seaborn.axisgrid.FacetGrid at 0x7f7385489f90>"
            ]
          },
          "metadata": {},
          "execution_count": 42
        },
        {
          "output_type": "display_data",
          "data": {
            "image/png": "[encoded data removed]",
            "text/plain": [
              "<Figure size 360x360 with 1 Axes>"
            ]
          },
          "metadata": {}
        }
      ]
    },
    {
      "cell_type": "code",
      "metadata": {
        "id": "edad4c7c",
        "colab": {
          "base_uri": "https://localhost:8080/",
          "height": 382
        },
        "outputId": "cbf4c23a-9f4d-4778-fe47-558a1278f7cb"
      },
      "source": [
        "sns.catplot(x=\"education\", y=\"Income\", hue=\"gender\", kind=\"bar\", data=df)"
      ],
      "id": "edad4c7c",
      "execution_count": null,
      "outputs": [
        {
          "output_type": "execute_result",
          "data": {
            "text/plain": [
              "<seaborn.axisgrid.FacetGrid at 0x7f738de62890>"
            ]
          },
          "metadata": {},
          "execution_count": 43
        },
        {
          "output_type": "display_data",
          "data": {
            "image/png": "[encoded data removed]",
            "text/plain": [
              "<Figure size 439.725x360 with 1 Axes>"
            ]
          },
          "metadata": {}
        }
      ]
    },
    {
      "cell_type": "code",
      "metadata": {
        "id": "fb376e94",
        "colab": {
          "base_uri": "https://localhost:8080/",
          "height": 382
        },
        "outputId": "66e131d8-b286-440a-ff57-c06ff2af4e78"
      },
      "source": [
        "sns.catplot(x=\"wrkstat\", y=\"Income\", hue=\"gender\", kind=\"bar\", data=df)"
      ],
      "id": "fb376e94",
      "execution_count": null,
      "outputs": [
        {
          "output_type": "execute_result",
          "data": {
            "text/plain": [
              "<seaborn.axisgrid.FacetGrid at 0x7f738ddff9d0>"
            ]
          },
          "metadata": {},
          "execution_count": 44
        },
        {
          "output_type": "display_data",
          "data": {
            "image/png": "[encoded data removed]",
            "text/plain": [
              "<Figure size 439.725x360 with 1 Axes>"
            ]
          },
          "metadata": {}
        }
      ]
    },
    {
      "cell_type": "code",
      "metadata": {
        "id": "4aa6c689",
        "colab": {
          "base_uri": "https://localhost:8080/",
          "height": 382
        },
        "outputId": "78211584-b535-4b0d-97b3-607de75cc73f"
      },
      "source": [
        "sns.catplot(y=\"wrkstat\", hue=\"gender\", kind=\"count\",\n",
        "            palette=\"pastel\", edgecolor=\".8\",\n",
        "            data=df)"
      ],
      "id": "4aa6c689",
      "execution_count": null,
      "outputs": [
        {
          "output_type": "execute_result",
          "data": {
            "text/plain": [
              "<seaborn.axisgrid.FacetGrid at 0x7f73853322d0>"
            ]
          },
          "metadata": {},
          "execution_count": 45
        },
        {
          "output_type": "display_data",
          "data": {
            "image/png": "[encoded data removed]",
            "text/plain": [
              "<Figure size 439.725x360 with 1 Axes>"
            ]
          },
          "metadata": {}
        }
      ]
    },
    {
      "cell_type": "code",
      "metadata": {
        "id": "03508982",
        "colab": {
          "base_uri": "https://localhost:8080/",
          "height": 314
        },
        "outputId": "769fda2d-56c1-408c-aa65-03d710c841d0"
      },
      "source": [
        "sns.countplot(x='gender',data=df)"
      ],
      "id": "03508982",
      "execution_count": null,
      "outputs": [
        {
          "output_type": "execute_result",
          "data": {
            "text/plain": [
              "<matplotlib.axes._subplots.AxesSubplot at 0x7f738540e650>"
            ]
          },
          "metadata": {},
          "execution_count": 46
        },
        {
          "output_type": "display_data",
          "data": {
            "image/png": "[encoded data removed]",
            "text/plain": [
              "<Figure size 432x288 with 1 Axes>"
            ]
          },
          "metadata": {}
        }
      ]
    },
    {
      "cell_type": "code",
      "metadata": {
        "id": "917c8142",
        "colab": {
          "base_uri": "https://localhost:8080/",
          "height": 314
        },
        "outputId": "ea405f60-0e49-4302-96ae-131183e8d5c7"
      },
      "source": [
        "sns.boxplot(x='wrkstat',y='age',data=df,palette='rainbow')"
      ],
      "id": "917c8142",
      "execution_count": null,
      "outputs": [
        {
          "output_type": "execute_result",
          "data": {
            "text/plain": [
              "<matplotlib.axes._subplots.AxesSubplot at 0x7f73853b7350>"
            ]
          },
          "metadata": {},
          "execution_count": 47
        },
        {
          "output_type": "display_data",
          "data": {
            "image/png": "[encoded data removed]",
            "text/plain": [
              "<Figure size 432x288 with 1 Axes>"
            ]
          },
          "metadata": {}
        }
      ]
    },
    {
      "cell_type": "markdown",
      "metadata": {
        "id": "4c8666f9"
      },
      "source": [
        "<h2>1.As a comapared to women men gets paid more or vice versa</h2>"
      ],
      "id": "4c8666f9"
    },
    {
      "cell_type": "code",
      "metadata": {
        "id": "694b8268",
        "colab": {
          "base_uri": "https://localhost:8080/",
          "height": 382
        },
        "outputId": "777ec64f-5345-46cb-bd75-02070b6c87ac"
      },
      "source": [
        "sns.catplot(x=\"wrkstat\", y=\"Income\", hue=\"gender\", kind=\"bar\", data=df)"
      ],
      "id": "694b8268",
      "execution_count": null,
      "outputs": [
        {
          "output_type": "execute_result",
          "data": {
            "text/plain": [
              "<seaborn.axisgrid.FacetGrid at 0x7f73853a85d0>"
            ]
          },
          "metadata": {},
          "execution_count": 48
        },
        {
          "output_type": "display_data",
          "data": {
            "image/png": "[encoded data removed]",
            "text/plain": [
              "<Figure size 439.725x360 with 1 Axes>"
            ]
          },
          "metadata": {}
        }
      ]
    },
    {
      "cell_type": "code",
      "metadata": {
        "id": "a322b405",
        "colab": {
          "base_uri": "https://localhost:8080/",
          "height": 549
        },
        "outputId": "050d6867-e28f-4020-af17-0610638a0e2c"
      },
      "source": [
        "df.occupation.value_counts().nlargest(40).plot(kind=\"bar\", figsize=(10,5))\n",
        "plt.ylabel(\"Income\")\n",
        "plt.xlabel(\"occupation\");"
      ],
      "id": "a322b405",
      "execution_count": null,
      "outputs": [
        {
          "output_type": "display_data",
          "data": {
            "image/png": "[encoded data removed]",
            "text/plain": [
              "<Figure size 720x360 with 1 Axes>"
            ]
          },
          "metadata": {}
        }
      ]
    },
    {
      "cell_type": "code",
      "metadata": {
        "id": "38f94440",
        "colab": {
          "base_uri": "https://localhost:8080/"
        },
        "outputId": "08f86eae-5a51-4403-f051-99275cbe5099"
      },
      "source": [
        "df['Income'].max()"
      ],
      "id": "38f94440",
      "execution_count": null,
      "outputs": [
        {
          "output_type": "execute_result",
          "data": {
            "text/plain": [
              "480144.4729"
            ]
          },
          "metadata": {},
          "execution_count": 50
        }
      ]
    },
    {
      "cell_type": "code",
      "metadata": {
        "id": "0c91b0cb",
        "colab": {
          "base_uri": "https://localhost:8080/"
        },
        "outputId": "e841ddba-c498-4bc8-eae9-54bb5335161e"
      },
      "source": [
        "df['Income'].min()"
      ],
      "id": "0c91b0cb",
      "execution_count": null,
      "outputs": [
        {
          "output_type": "execute_result",
          "data": {
            "text/plain": [
              "227.0"
            ]
          },
          "metadata": {},
          "execution_count": 51
        }
      ]
    },
    {
      "cell_type": "code",
      "metadata": {
        "colab": {
          "base_uri": "https://localhost:8080/",
          "height": 300
        },
        "id": "bb0e7144",
        "outputId": "b91d6d54-c489-4ee3-c1d8-bdcfc26f35b7"
      },
      "source": [
        "df.describe()"
      ],
      "id": "bb0e7144",
      "execution_count": null,
      "outputs": [
        {
          "output_type": "execute_result",
          "data": {
            "text/html": [
              "<div>\n",
              "<style scoped>\n",
              "    .dataframe tbody tr th:only-of-type {\n",
              "        vertical-align: middle;\n",
              "    }\n",
              "\n",
              "    .dataframe tbody tr th {\n",
              "        vertical-align: top;\n",
              "    }\n",
              "\n",
              "    .dataframe thead th {\n",
              "        text-align: right;\n",
              "    }\n",
              "</style>\n",
              "<table border=\"1\" class=\"dataframe\">\n",
              "  <thead>\n",
              "    <tr style=\"text-align: right;\">\n",
              "      <th></th>\n",
              "      <th>year</th>\n",
              "      <th>Income</th>\n",
              "      <th>age</th>\n",
              "      <th>occCode</th>\n",
              "      <th>prestg10</th>\n",
              "      <th>childs</th>\n",
              "    </tr>\n",
              "  </thead>\n",
              "  <tbody>\n",
              "    <tr>\n",
              "      <th>count</th>\n",
              "      <td>37752.000000</td>\n",
              "      <td>37752.000000</td>\n",
              "      <td>37752.000000</td>\n",
              "      <td>37752.000000</td>\n",
              "      <td>37752.000000</td>\n",
              "      <td>37752.000000</td>\n",
              "    </tr>\n",
              "    <tr>\n",
              "      <th>mean</th>\n",
              "      <td>1995.962068</td>\n",
              "      <td>22341.744855</td>\n",
              "      <td>40.953274</td>\n",
              "      <td>4567.383132</td>\n",
              "      <td>43.764595</td>\n",
              "      <td>1.692281</td>\n",
              "    </tr>\n",
              "    <tr>\n",
              "      <th>std</th>\n",
              "      <td>12.561370</td>\n",
              "      <td>28604.177511</td>\n",
              "      <td>13.490676</td>\n",
              "      <td>2659.206231</td>\n",
              "      <td>13.020523</td>\n",
              "      <td>1.614730</td>\n",
              "    </tr>\n",
              "    <tr>\n",
              "      <th>min</th>\n",
              "      <td>1974.000000</td>\n",
              "      <td>227.000000</td>\n",
              "      <td>18.000000</td>\n",
              "      <td>10.000000</td>\n",
              "      <td>16.000000</td>\n",
              "      <td>0.000000</td>\n",
              "    </tr>\n",
              "    <tr>\n",
              "      <th>25%</th>\n",
              "      <td>1986.000000</td>\n",
              "      <td>8156.000000</td>\n",
              "      <td>30.000000</td>\n",
              "      <td>2330.000000</td>\n",
              "      <td>35.000000</td>\n",
              "      <td>0.000000</td>\n",
              "    </tr>\n",
              "    <tr>\n",
              "      <th>50%</th>\n",
              "      <td>1996.000000</td>\n",
              "      <td>16563.000000</td>\n",
              "      <td>39.000000</td>\n",
              "      <td>4700.000000</td>\n",
              "      <td>43.000000</td>\n",
              "      <td>2.000000</td>\n",
              "    </tr>\n",
              "    <tr>\n",
              "      <th>75%</th>\n",
              "      <td>2006.000000</td>\n",
              "      <td>27171.000000</td>\n",
              "      <td>51.000000</td>\n",
              "      <td>6220.000000</td>\n",
              "      <td>51.000000</td>\n",
              "      <td>3.000000</td>\n",
              "    </tr>\n",
              "    <tr>\n",
              "      <th>max</th>\n",
              "      <td>2018.000000</td>\n",
              "      <td>480144.472900</td>\n",
              "      <td>89.000000</td>\n",
              "      <td>9997.000000</td>\n",
              "      <td>80.000000</td>\n",
              "      <td>8.000000</td>\n",
              "    </tr>\n",
              "  </tbody>\n",
              "</table>\n",
              "</div>"
            ],
            "text/plain": [
              "               year         Income  ...      prestg10        childs\n",
              "count  37752.000000   37752.000000  ...  37752.000000  37752.000000\n",
              "mean    1995.962068   22341.744855  ...     43.764595      1.692281\n",
              "std       12.561370   28604.177511  ...     13.020523      1.614730\n",
              "min     1974.000000     227.000000  ...     16.000000      0.000000\n",
              "25%     1986.000000    8156.000000  ...     35.000000      0.000000\n",
              "50%     1996.000000   16563.000000  ...     43.000000      2.000000\n",
              "75%     2006.000000   27171.000000  ...     51.000000      3.000000\n",
              "max     2018.000000  480144.472900  ...     80.000000      8.000000\n",
              "\n",
              "[8 rows x 6 columns]"
            ]
          },
          "metadata": {},
          "execution_count": 52
        }
      ]
    },
    {
      "cell_type": "code",
      "metadata": {
        "id": "d5e31400"
      },
      "source": [
        "bins = [0, 10000,20000, 30000,100000, 500000]\n",
        "labels = ['very low','low','moderate','high','super high']"
      ],
      "id": "d5e31400",
      "execution_count": null,
      "outputs": []
    },
    {
      "cell_type": "code",
      "metadata": {
        "id": "bfef9d4b"
      },
      "source": [
        "df['Income'] = pd.cut(df['Income'],bins,labels = labels)"
      ],
      "id": "bfef9d4b",
      "execution_count": null,
      "outputs": []
    },
    {
      "cell_type": "code",
      "metadata": {
        "colab": {
          "base_uri": "https://localhost:8080/",
          "height": 676
        },
        "id": "f1a1ca24",
        "outputId": "9d2bb9fd-b37d-401b-c5be-9e1c7df898c0"
      },
      "source": [
        "df.head(20)"
      ],
      "id": "f1a1ca24",
      "execution_count": null,
      "outputs": [
        {
          "output_type": "execute_result",
          "data": {
            "text/html": [
              "<div>\n",
              "<style scoped>\n",
              "    .dataframe tbody tr th:only-of-type {\n",
              "        vertical-align: middle;\n",
              "    }\n",
              "\n",
              "    .dataframe tbody tr th {\n",
              "        vertical-align: top;\n",
              "    }\n",
              "\n",
              "    .dataframe thead th {\n",
              "        text-align: right;\n",
              "    }\n",
              "</style>\n",
              "<table border=\"1\" class=\"dataframe\">\n",
              "  <thead>\n",
              "    <tr style=\"text-align: right;\">\n",
              "      <th></th>\n",
              "      <th>year</th>\n",
              "      <th>Income</th>\n",
              "      <th>age</th>\n",
              "      <th>occCode</th>\n",
              "      <th>occupation</th>\n",
              "      <th>prestg10</th>\n",
              "      <th>childs</th>\n",
              "      <th>wrkstat</th>\n",
              "      <th>gender</th>\n",
              "      <th>education</th>\n",
              "      <th>maritalstat</th>\n",
              "    </tr>\n",
              "  </thead>\n",
              "  <tbody>\n",
              "    <tr>\n",
              "      <th>0</th>\n",
              "      <td>1974</td>\n",
              "      <td>very low</td>\n",
              "      <td>21</td>\n",
              "      <td>5620</td>\n",
              "      <td>Office and Administrative Support</td>\n",
              "      <td>25</td>\n",
              "      <td>0</td>\n",
              "      <td>School</td>\n",
              "      <td>Male</td>\n",
              "      <td>High School</td>\n",
              "      <td>Married</td>\n",
              "    </tr>\n",
              "    <tr>\n",
              "      <th>1</th>\n",
              "      <td>1974</td>\n",
              "      <td>high</td>\n",
              "      <td>41</td>\n",
              "      <td>2040</td>\n",
              "      <td>Professional</td>\n",
              "      <td>66</td>\n",
              "      <td>3</td>\n",
              "      <td>Full-Time</td>\n",
              "      <td>Male</td>\n",
              "      <td>Bachelor</td>\n",
              "      <td>Married</td>\n",
              "    </tr>\n",
              "    <tr>\n",
              "      <th>4</th>\n",
              "      <td>1974</td>\n",
              "      <td>low</td>\n",
              "      <td>58</td>\n",
              "      <td>5820</td>\n",
              "      <td>Office and Administrative Support</td>\n",
              "      <td>37</td>\n",
              "      <td>0</td>\n",
              "      <td>Full-Time</td>\n",
              "      <td>Female</td>\n",
              "      <td>High School</td>\n",
              "      <td>Never Married</td>\n",
              "    </tr>\n",
              "    <tr>\n",
              "      <th>5</th>\n",
              "      <td>1974</td>\n",
              "      <td>moderate</td>\n",
              "      <td>30</td>\n",
              "      <td>910</td>\n",
              "      <td>Business/Finance</td>\n",
              "      <td>45</td>\n",
              "      <td>0</td>\n",
              "      <td>School</td>\n",
              "      <td>Male</td>\n",
              "      <td>Bachelor</td>\n",
              "      <td>Married</td>\n",
              "    </tr>\n",
              "    <tr>\n",
              "      <th>6</th>\n",
              "      <td>1974</td>\n",
              "      <td>high</td>\n",
              "      <td>48</td>\n",
              "      <td>230</td>\n",
              "      <td>Business/Finance</td>\n",
              "      <td>59</td>\n",
              "      <td>2</td>\n",
              "      <td>Full-Time</td>\n",
              "      <td>Male</td>\n",
              "      <td>Graduate</td>\n",
              "      <td>Married</td>\n",
              "    </tr>\n",
              "    <tr>\n",
              "      <th>9</th>\n",
              "      <td>1974</td>\n",
              "      <td>very low</td>\n",
              "      <td>54</td>\n",
              "      <td>3940</td>\n",
              "      <td>Service</td>\n",
              "      <td>38</td>\n",
              "      <td>2</td>\n",
              "      <td>Full-Time</td>\n",
              "      <td>Female</td>\n",
              "      <td>Less Than High School</td>\n",
              "      <td>Married</td>\n",
              "    </tr>\n",
              "    <tr>\n",
              "      <th>14</th>\n",
              "      <td>1974</td>\n",
              "      <td>very low</td>\n",
              "      <td>22</td>\n",
              "      <td>4020</td>\n",
              "      <td>Service</td>\n",
              "      <td>33</td>\n",
              "      <td>0</td>\n",
              "      <td>Full-Time</td>\n",
              "      <td>Female</td>\n",
              "      <td>High School</td>\n",
              "      <td>Never Married</td>\n",
              "    </tr>\n",
              "    <tr>\n",
              "      <th>15</th>\n",
              "      <td>1974</td>\n",
              "      <td>low</td>\n",
              "      <td>23</td>\n",
              "      <td>7810</td>\n",
              "      <td>Production</td>\n",
              "      <td>28</td>\n",
              "      <td>1</td>\n",
              "      <td>Full-Time</td>\n",
              "      <td>Male</td>\n",
              "      <td>High School</td>\n",
              "      <td>Married</td>\n",
              "    </tr>\n",
              "    <tr>\n",
              "      <th>20</th>\n",
              "      <td>1974</td>\n",
              "      <td>low</td>\n",
              "      <td>25</td>\n",
              "      <td>8640</td>\n",
              "      <td>Production</td>\n",
              "      <td>31</td>\n",
              "      <td>0</td>\n",
              "      <td>Full-Time</td>\n",
              "      <td>Male</td>\n",
              "      <td>Less Than High School</td>\n",
              "      <td>Never Married</td>\n",
              "    </tr>\n",
              "    <tr>\n",
              "      <th>25</th>\n",
              "      <td>1974</td>\n",
              "      <td>high</td>\n",
              "      <td>59</td>\n",
              "      <td>4710</td>\n",
              "      <td>Sales</td>\n",
              "      <td>48</td>\n",
              "      <td>1</td>\n",
              "      <td>Full-Time</td>\n",
              "      <td>Male</td>\n",
              "      <td>Less Than High School</td>\n",
              "      <td>Married</td>\n",
              "    </tr>\n",
              "    <tr>\n",
              "      <th>26</th>\n",
              "      <td>1974</td>\n",
              "      <td>high</td>\n",
              "      <td>53</td>\n",
              "      <td>4760</td>\n",
              "      <td>Sales</td>\n",
              "      <td>31</td>\n",
              "      <td>4</td>\n",
              "      <td>Full-Time</td>\n",
              "      <td>Male</td>\n",
              "      <td>High School</td>\n",
              "      <td>Married</td>\n",
              "    </tr>\n",
              "    <tr>\n",
              "      <th>29</th>\n",
              "      <td>1974</td>\n",
              "      <td>low</td>\n",
              "      <td>35</td>\n",
              "      <td>5700</td>\n",
              "      <td>Office and Administrative Support</td>\n",
              "      <td>47</td>\n",
              "      <td>3</td>\n",
              "      <td>Full-Time</td>\n",
              "      <td>Female</td>\n",
              "      <td>High School</td>\n",
              "      <td>Married</td>\n",
              "    </tr>\n",
              "    <tr>\n",
              "      <th>30</th>\n",
              "      <td>1974</td>\n",
              "      <td>high</td>\n",
              "      <td>51</td>\n",
              "      <td>430</td>\n",
              "      <td>Business/Finance</td>\n",
              "      <td>39</td>\n",
              "      <td>2</td>\n",
              "      <td>Full-Time</td>\n",
              "      <td>Male</td>\n",
              "      <td>Less Than High School</td>\n",
              "      <td>Married</td>\n",
              "    </tr>\n",
              "    <tr>\n",
              "      <th>32</th>\n",
              "      <td>1974</td>\n",
              "      <td>very low</td>\n",
              "      <td>21</td>\n",
              "      <td>3645</td>\n",
              "      <td>Service</td>\n",
              "      <td>51</td>\n",
              "      <td>0</td>\n",
              "      <td>Housekeeper</td>\n",
              "      <td>Female</td>\n",
              "      <td>High School</td>\n",
              "      <td>Married</td>\n",
              "    </tr>\n",
              "    <tr>\n",
              "      <th>33</th>\n",
              "      <td>1974</td>\n",
              "      <td>very low</td>\n",
              "      <td>72</td>\n",
              "      <td>4700</td>\n",
              "      <td>Sales</td>\n",
              "      <td>38</td>\n",
              "      <td>4</td>\n",
              "      <td>Housekeeper</td>\n",
              "      <td>Female</td>\n",
              "      <td>Less Than High School</td>\n",
              "      <td>Married</td>\n",
              "    </tr>\n",
              "    <tr>\n",
              "      <th>35</th>\n",
              "      <td>1974</td>\n",
              "      <td>low</td>\n",
              "      <td>26</td>\n",
              "      <td>7360</td>\n",
              "      <td>Installation, Maintenance, and Repair</td>\n",
              "      <td>33</td>\n",
              "      <td>2</td>\n",
              "      <td>Full-Time</td>\n",
              "      <td>Male</td>\n",
              "      <td>Less Than High School</td>\n",
              "      <td>Married</td>\n",
              "    </tr>\n",
              "    <tr>\n",
              "      <th>36</th>\n",
              "      <td>1974</td>\n",
              "      <td>high</td>\n",
              "      <td>39</td>\n",
              "      <td>7700</td>\n",
              "      <td>Production</td>\n",
              "      <td>50</td>\n",
              "      <td>4</td>\n",
              "      <td>Full-Time</td>\n",
              "      <td>Male</td>\n",
              "      <td>High School</td>\n",
              "      <td>Married</td>\n",
              "    </tr>\n",
              "    <tr>\n",
              "      <th>39</th>\n",
              "      <td>1974</td>\n",
              "      <td>high</td>\n",
              "      <td>23</td>\n",
              "      <td>2320</td>\n",
              "      <td>Professional</td>\n",
              "      <td>64</td>\n",
              "      <td>0</td>\n",
              "      <td>Full-Time</td>\n",
              "      <td>Female</td>\n",
              "      <td>Bachelor</td>\n",
              "      <td>Married</td>\n",
              "    </tr>\n",
              "    <tr>\n",
              "      <th>40</th>\n",
              "      <td>1974</td>\n",
              "      <td>high</td>\n",
              "      <td>28</td>\n",
              "      <td>10</td>\n",
              "      <td>Business/Finance</td>\n",
              "      <td>72</td>\n",
              "      <td>1</td>\n",
              "      <td>Full-Time</td>\n",
              "      <td>Male</td>\n",
              "      <td>Bachelor</td>\n",
              "      <td>Married</td>\n",
              "    </tr>\n",
              "    <tr>\n",
              "      <th>41</th>\n",
              "      <td>1974</td>\n",
              "      <td>moderate</td>\n",
              "      <td>47</td>\n",
              "      <td>2320</td>\n",
              "      <td>Professional</td>\n",
              "      <td>64</td>\n",
              "      <td>0</td>\n",
              "      <td>Full-Time</td>\n",
              "      <td>Male</td>\n",
              "      <td>Graduate</td>\n",
              "      <td>Married</td>\n",
              "    </tr>\n",
              "  </tbody>\n",
              "</table>\n",
              "</div>"
            ],
            "text/plain": [
              "    year    Income  age  ...  gender              education    maritalstat\n",
              "0   1974  very low   21  ...    Male            High School        Married\n",
              "1   1974      high   41  ...    Male               Bachelor        Married\n",
              "4   1974       low   58  ...  Female            High School  Never Married\n",
              "5   1974  moderate   30  ...    Male               Bachelor        Married\n",
              "6   1974      high   48  ...    Male               Graduate        Married\n",
              "9   1974  very low   54  ...  Female  Less Than High School        Married\n",
              "14  1974  very low   22  ...  Female            High School  Never Married\n",
              "15  1974       low   23  ...    Male            High School        Married\n",
              "20  1974       low   25  ...    Male  Less Than High School  Never Married\n",
              "25  1974      high   59  ...    Male  Less Than High School        Married\n",
              "26  1974      high   53  ...    Male            High School        Married\n",
              "29  1974       low   35  ...  Female            High School        Married\n",
              "30  1974      high   51  ...    Male  Less Than High School        Married\n",
              "32  1974  very low   21  ...  Female            High School        Married\n",
              "33  1974  very low   72  ...  Female  Less Than High School        Married\n",
              "35  1974       low   26  ...    Male  Less Than High School        Married\n",
              "36  1974      high   39  ...    Male            High School        Married\n",
              "39  1974      high   23  ...  Female               Bachelor        Married\n",
              "40  1974      high   28  ...    Male               Bachelor        Married\n",
              "41  1974  moderate   47  ...    Male               Graduate        Married\n",
              "\n",
              "[20 rows x 11 columns]"
            ]
          },
          "metadata": {},
          "execution_count": 55
        }
      ]
    },
    {
      "cell_type": "code",
      "metadata": {
        "colab": {
          "base_uri": "https://localhost:8080/"
        },
        "id": "44cda6de",
        "outputId": "6541e6ad-12f8-43ed-ddd4-dd1e659a5bdc"
      },
      "source": [
        "df['Income'].value_counts()"
      ],
      "id": "44cda6de",
      "execution_count": null,
      "outputs": [
        {
          "output_type": "execute_result",
          "data": {
            "text/plain": [
              "very low      11519\n",
              "low           10765\n",
              "moderate       7423\n",
              "high           7331\n",
              "super high      714\n",
              "Name: Income, dtype: int64"
            ]
          },
          "metadata": {},
          "execution_count": 56
        }
      ]
    },
    {
      "cell_type": "code",
      "metadata": {
        "id": "8f92ee58"
      },
      "source": [
        "df=df[['year','age','occCode','occupation','prestg10','childs','wrkstat','gender','education','maritalstat','Income']]\n",
        "df1=df"
      ],
      "id": "8f92ee58",
      "execution_count": null,
      "outputs": []
    },
    {
      "cell_type": "code",
      "metadata": {
        "colab": {
          "base_uri": "https://localhost:8080/"
        },
        "id": "8170b992",
        "outputId": "7b6ec570-af49-4a6e-8ca2-e1344820454e"
      },
      "source": [
        "df1.info()"
      ],
      "id": "8170b992",
      "execution_count": null,
      "outputs": [
        {
          "output_type": "stream",
          "name": "stdout",
          "text": [
            "<class 'pandas.core.frame.DataFrame'>\n",
            "Int64Index: 37752 entries, 0 to 61694\n",
            "Data columns (total 11 columns):\n",
            " #   Column       Non-Null Count  Dtype   \n",
            "---  ------       --------------  -----   \n",
            " 0   year         37752 non-null  int64   \n",
            " 1   age          37752 non-null  int64   \n",
            " 2   occCode      37752 non-null  int64   \n",
            " 3   occupation   37752 non-null  object  \n",
            " 4   prestg10     37752 non-null  int64   \n",
            " 5   childs       37752 non-null  int64   \n",
            " 6   wrkstat      37752 non-null  object  \n",
            " 7   gender       37752 non-null  object  \n",
            " 8   education    37752 non-null  object  \n",
            " 9   maritalstat  37752 non-null  object  \n",
            " 10  Income       37752 non-null  category\n",
            "dtypes: category(1), int64(5), object(5)\n",
            "memory usage: 4.5+ MB\n"
          ]
        }
      ]
    },
    {
      "cell_type": "code",
      "metadata": {
        "colab": {
          "base_uri": "https://localhost:8080/"
        },
        "id": "9c59c192",
        "outputId": "9bc98d36-6e72-4071-ff3e-24c7bee80d81"
      },
      "source": [
        "df1['Income'].unique()"
      ],
      "id": "9c59c192",
      "execution_count": null,
      "outputs": [
        {
          "output_type": "execute_result",
          "data": {
            "text/plain": [
              "['very low', 'high', 'low', 'moderate', 'super high']\n",
              "Categories (5, object): ['very low' < 'low' < 'moderate' < 'high' < 'super high']"
            ]
          },
          "metadata": {},
          "execution_count": 59
        }
      ]
    },
    {
      "cell_type": "code",
      "metadata": {
        "colab": {
          "base_uri": "https://localhost:8080/"
        },
        "id": "4bb8ec46",
        "outputId": "d2a362a1-bd2a-4d80-960d-f6329321ccba"
      },
      "source": [
        "\n",
        "label_map={'Income':{'very low':0,'low':1,'moderate':2,'high':3,'super high':4}}\n",
        "df1 = df1.replace(label_map)\n",
        "df1.info()"
      ],
      "id": "4bb8ec46",
      "execution_count": null,
      "outputs": [
        {
          "output_type": "stream",
          "name": "stdout",
          "text": [
            "<class 'pandas.core.frame.DataFrame'>\n",
            "Int64Index: 37752 entries, 0 to 61694\n",
            "Data columns (total 11 columns):\n",
            " #   Column       Non-Null Count  Dtype \n",
            "---  ------       --------------  ----- \n",
            " 0   year         37752 non-null  int64 \n",
            " 1   age          37752 non-null  int64 \n",
            " 2   occCode      37752 non-null  int64 \n",
            " 3   occupation   37752 non-null  object\n",
            " 4   prestg10     37752 non-null  int64 \n",
            " 5   childs       37752 non-null  int64 \n",
            " 6   wrkstat      37752 non-null  object\n",
            " 7   gender       37752 non-null  object\n",
            " 8   education    37752 non-null  object\n",
            " 9   maritalstat  37752 non-null  object\n",
            " 10  Income       37752 non-null  int64 \n",
            "dtypes: int64(6), object(5)\n",
            "memory usage: 4.7+ MB\n"
          ]
        }
      ]
    },
    {
      "cell_type": "code",
      "metadata": {
        "colab": {
          "base_uri": "https://localhost:8080/"
        },
        "id": "d4c6bfe9",
        "outputId": "f645e8a6-1a19-4837-dd0d-0414a8ef21c5"
      },
      "source": [
        "df['occupation'].value_counts()"
      ],
      "id": "d4c6bfe9",
      "execution_count": null,
      "outputs": [
        {
          "output_type": "execute_result",
          "data": {
            "text/plain": [
              "Professional                             7798\n",
              "Service                                  6023\n",
              "Office and Administrative Support        5612\n",
              "Business/Finance                         4669\n",
              "Sales                                    3603\n",
              "Production                               3380\n",
              "Construction/Extraction                  2156\n",
              "Transportation                           2142\n",
              "Installation, Maintenance, and Repair    1376\n",
              "Armed Forces                              695\n",
              "Farming, Fishing, and Forestry            298\n",
              "Name: occupation, dtype: int64"
            ]
          },
          "metadata": {},
          "execution_count": 61
        }
      ]
    },
    {
      "cell_type": "code",
      "metadata": {
        "colab": {
          "base_uri": "https://localhost:8080/"
        },
        "id": "80747b7c",
        "outputId": "7f233959-6c30-497d-a4ac-9b4a16c45324"
      },
      "source": [
        "label_map={'gender':{'Male':0,'Female':1},'education':{'Less Than High School':0,'High School':1,'Junior College':2,'Graduate':3,'Bachelor':3}}\n",
        "df1 = df1.replace(label_map)\n",
        "df1.info()"
      ],
      "id": "80747b7c",
      "execution_count": null,
      "outputs": [
        {
          "output_type": "stream",
          "name": "stdout",
          "text": [
            "<class 'pandas.core.frame.DataFrame'>\n",
            "Int64Index: 37752 entries, 0 to 61694\n",
            "Data columns (total 11 columns):\n",
            " #   Column       Non-Null Count  Dtype \n",
            "---  ------       --------------  ----- \n",
            " 0   year         37752 non-null  int64 \n",
            " 1   age          37752 non-null  int64 \n",
            " 2   occCode      37752 non-null  int64 \n",
            " 3   occupation   37752 non-null  object\n",
            " 4   prestg10     37752 non-null  int64 \n",
            " 5   childs       37752 non-null  int64 \n",
            " 6   wrkstat      37752 non-null  object\n",
            " 7   gender       37752 non-null  int64 \n",
            " 8   education    37752 non-null  int64 \n",
            " 9   maritalstat  37752 non-null  object\n",
            " 10  Income       37752 non-null  int64 \n",
            "dtypes: int64(8), object(3)\n",
            "memory usage: 4.7+ MB\n"
          ]
        }
      ]
    },
    {
      "cell_type": "code",
      "metadata": {
        "colab": {
          "base_uri": "https://localhost:8080/"
        },
        "id": "Ur4T5unLt3gv",
        "outputId": "18153736-e7d1-4a99-f29e-a8fc22dd0555"
      },
      "source": [
        "df1.columns"
      ],
      "id": "Ur4T5unLt3gv",
      "execution_count": null,
      "outputs": [
        {
          "output_type": "execute_result",
          "data": {
            "text/plain": [
              "Index(['year', 'age', 'occCode', 'occupation', 'prestg10', 'childs', 'wrkstat',\n",
              "       'gender', 'education', 'maritalstat', 'Income'],\n",
              "      dtype='object')"
            ]
          },
          "metadata": {},
          "execution_count": 63
        }
      ]
    },
    {
      "cell_type": "code",
      "metadata": {
        "id": "j0kdEBjYuGAS"
      },
      "source": [
        "col = ['occupation','wrkstat','maritalstat','gender', 'education']"
      ],
      "id": "j0kdEBjYuGAS",
      "execution_count": null,
      "outputs": []
    },
    {
      "cell_type": "code",
      "metadata": {
        "id": "WZ3xsrTHuH1y"
      },
      "source": [
        "from sklearn.preprocessing import LabelEncoder\n",
        "for c in col:\n",
        "    lbl = LabelEncoder() \n",
        "    lbl.fit(list(df1[c].values)) \n",
        "    df1[c] = lbl.transform(list(df1[c].values))"
      ],
      "id": "WZ3xsrTHuH1y",
      "execution_count": null,
      "outputs": []
    },
    {
      "cell_type": "code",
      "metadata": {
        "colab": {
          "base_uri": "https://localhost:8080/",
          "height": 423
        },
        "id": "lm3g_226w5F3",
        "outputId": "6ba46125-9823-4c03-f5af-20e000057c7f"
      },
      "source": [
        "df1"
      ],
      "id": "lm3g_226w5F3",
      "execution_count": null,
      "outputs": [
        {
          "output_type": "execute_result",
          "data": {
            "text/html": [
              "<div>\n",
              "<style scoped>\n",
              "    .dataframe tbody tr th:only-of-type {\n",
              "        vertical-align: middle;\n",
              "    }\n",
              "\n",
              "    .dataframe tbody tr th {\n",
              "        vertical-align: top;\n",
              "    }\n",
              "\n",
              "    .dataframe thead th {\n",
              "        text-align: right;\n",
              "    }\n",
              "</style>\n",
              "<table border=\"1\" class=\"dataframe\">\n",
              "  <thead>\n",
              "    <tr style=\"text-align: right;\">\n",
              "      <th></th>\n",
              "      <th>year</th>\n",
              "      <th>age</th>\n",
              "      <th>occCode</th>\n",
              "      <th>occupation</th>\n",
              "      <th>prestg10</th>\n",
              "      <th>childs</th>\n",
              "      <th>wrkstat</th>\n",
              "      <th>gender</th>\n",
              "      <th>education</th>\n",
              "      <th>maritalstat</th>\n",
              "      <th>Income</th>\n",
              "    </tr>\n",
              "  </thead>\n",
              "  <tbody>\n",
              "    <tr>\n",
              "      <th>0</th>\n",
              "      <td>1974</td>\n",
              "      <td>21</td>\n",
              "      <td>5620</td>\n",
              "      <td>5</td>\n",
              "      <td>25</td>\n",
              "      <td>0</td>\n",
              "      <td>5</td>\n",
              "      <td>0</td>\n",
              "      <td>1</td>\n",
              "      <td>1</td>\n",
              "      <td>0</td>\n",
              "    </tr>\n",
              "    <tr>\n",
              "      <th>1</th>\n",
              "      <td>1974</td>\n",
              "      <td>41</td>\n",
              "      <td>2040</td>\n",
              "      <td>7</td>\n",
              "      <td>66</td>\n",
              "      <td>3</td>\n",
              "      <td>0</td>\n",
              "      <td>0</td>\n",
              "      <td>3</td>\n",
              "      <td>1</td>\n",
              "      <td>3</td>\n",
              "    </tr>\n",
              "    <tr>\n",
              "      <th>4</th>\n",
              "      <td>1974</td>\n",
              "      <td>58</td>\n",
              "      <td>5820</td>\n",
              "      <td>5</td>\n",
              "      <td>37</td>\n",
              "      <td>0</td>\n",
              "      <td>0</td>\n",
              "      <td>1</td>\n",
              "      <td>1</td>\n",
              "      <td>2</td>\n",
              "      <td>1</td>\n",
              "    </tr>\n",
              "    <tr>\n",
              "      <th>5</th>\n",
              "      <td>1974</td>\n",
              "      <td>30</td>\n",
              "      <td>910</td>\n",
              "      <td>1</td>\n",
              "      <td>45</td>\n",
              "      <td>0</td>\n",
              "      <td>5</td>\n",
              "      <td>0</td>\n",
              "      <td>3</td>\n",
              "      <td>1</td>\n",
              "      <td>2</td>\n",
              "    </tr>\n",
              "    <tr>\n",
              "      <th>6</th>\n",
              "      <td>1974</td>\n",
              "      <td>48</td>\n",
              "      <td>230</td>\n",
              "      <td>1</td>\n",
              "      <td>59</td>\n",
              "      <td>2</td>\n",
              "      <td>0</td>\n",
              "      <td>0</td>\n",
              "      <td>3</td>\n",
              "      <td>1</td>\n",
              "      <td>3</td>\n",
              "    </tr>\n",
              "    <tr>\n",
              "      <th>...</th>\n",
              "      <td>...</td>\n",
              "      <td>...</td>\n",
              "      <td>...</td>\n",
              "      <td>...</td>\n",
              "      <td>...</td>\n",
              "      <td>...</td>\n",
              "      <td>...</td>\n",
              "      <td>...</td>\n",
              "      <td>...</td>\n",
              "      <td>...</td>\n",
              "      <td>...</td>\n",
              "    </tr>\n",
              "    <tr>\n",
              "      <th>61684</th>\n",
              "      <td>2018</td>\n",
              "      <td>54</td>\n",
              "      <td>3230</td>\n",
              "      <td>7</td>\n",
              "      <td>59</td>\n",
              "      <td>0</td>\n",
              "      <td>0</td>\n",
              "      <td>1</td>\n",
              "      <td>3</td>\n",
              "      <td>1</td>\n",
              "      <td>1</td>\n",
              "    </tr>\n",
              "    <tr>\n",
              "      <th>61685</th>\n",
              "      <td>2018</td>\n",
              "      <td>25</td>\n",
              "      <td>2710</td>\n",
              "      <td>7</td>\n",
              "      <td>58</td>\n",
              "      <td>0</td>\n",
              "      <td>0</td>\n",
              "      <td>1</td>\n",
              "      <td>3</td>\n",
              "      <td>2</td>\n",
              "      <td>0</td>\n",
              "    </tr>\n",
              "    <tr>\n",
              "      <th>61688</th>\n",
              "      <td>2018</td>\n",
              "      <td>29</td>\n",
              "      <td>4760</td>\n",
              "      <td>8</td>\n",
              "      <td>31</td>\n",
              "      <td>0</td>\n",
              "      <td>0</td>\n",
              "      <td>1</td>\n",
              "      <td>1</td>\n",
              "      <td>1</td>\n",
              "      <td>1</td>\n",
              "    </tr>\n",
              "    <tr>\n",
              "      <th>61693</th>\n",
              "      <td>2018</td>\n",
              "      <td>75</td>\n",
              "      <td>4720</td>\n",
              "      <td>8</td>\n",
              "      <td>28</td>\n",
              "      <td>4</td>\n",
              "      <td>3</td>\n",
              "      <td>1</td>\n",
              "      <td>1</td>\n",
              "      <td>1</td>\n",
              "      <td>0</td>\n",
              "    </tr>\n",
              "    <tr>\n",
              "      <th>61694</th>\n",
              "      <td>2018</td>\n",
              "      <td>67</td>\n",
              "      <td>5140</td>\n",
              "      <td>5</td>\n",
              "      <td>40</td>\n",
              "      <td>3</td>\n",
              "      <td>4</td>\n",
              "      <td>1</td>\n",
              "      <td>1</td>\n",
              "      <td>1</td>\n",
              "      <td>0</td>\n",
              "    </tr>\n",
              "  </tbody>\n",
              "</table>\n",
              "<p>37752 rows × 11 columns</p>\n",
              "</div>"
            ],
            "text/plain": [
              "       year  age  occCode  occupation  ...  gender  education  maritalstat  Income\n",
              "0      1974   21     5620           5  ...       0          1            1       0\n",
              "1      1974   41     2040           7  ...       0          3            1       3\n",
              "4      1974   58     5820           5  ...       1          1            2       1\n",
              "5      1974   30      910           1  ...       0          3            1       2\n",
              "6      1974   48      230           1  ...       0          3            1       3\n",
              "...     ...  ...      ...         ...  ...     ...        ...          ...     ...\n",
              "61684  2018   54     3230           7  ...       1          3            1       1\n",
              "61685  2018   25     2710           7  ...       1          3            2       0\n",
              "61688  2018   29     4760           8  ...       1          1            1       1\n",
              "61693  2018   75     4720           8  ...       1          1            1       0\n",
              "61694  2018   67     5140           5  ...       1          1            1       0\n",
              "\n",
              "[37752 rows x 11 columns]"
            ]
          },
          "metadata": {},
          "execution_count": 66
        }
      ]
    },
    {
      "cell_type": "markdown",
      "metadata": {
        "id": "07845800"
      },
      "source": [
        "### split X & Y"
      ],
      "id": "07845800"
    },
    {
      "cell_type": "code",
      "metadata": {
        "id": "07b6b469"
      },
      "source": [
        "X = df1.drop('Income',axis=1)\n",
        "Y =  df1['Income']"
      ],
      "id": "07b6b469",
      "execution_count": null,
      "outputs": []
    },
    {
      "cell_type": "code",
      "metadata": {
        "colab": {
          "base_uri": "https://localhost:8080/"
        },
        "id": "d5b9cb11",
        "outputId": "f71ca271-a151-4883-a369-e60e01af3dd5"
      },
      "source": [
        "X.shape,Y.shape"
      ],
      "id": "d5b9cb11",
      "execution_count": null,
      "outputs": [
        {
          "output_type": "execute_result",
          "data": {
            "text/plain": [
              "((37752, 10), (37752,))"
            ]
          },
          "metadata": {},
          "execution_count": 68
        }
      ]
    },
    {
      "cell_type": "code",
      "metadata": {
        "colab": {
          "base_uri": "https://localhost:8080/"
        },
        "id": "VPRge3vcpVra",
        "outputId": "bb24322b-734f-4721-c7c9-940a53722554"
      },
      "source": [
        "Y.value_counts()"
      ],
      "id": "VPRge3vcpVra",
      "execution_count": null,
      "outputs": [
        {
          "output_type": "execute_result",
          "data": {
            "text/plain": [
              "0    11519\n",
              "1    10765\n",
              "2     7423\n",
              "3     7331\n",
              "4      714\n",
              "Name: Income, dtype: int64"
            ]
          },
          "metadata": {},
          "execution_count": 69
        }
      ]
    },
    {
      "cell_type": "code",
      "metadata": {
        "colab": {
          "base_uri": "https://localhost:8080/",
          "height": 296
        },
        "id": "c8e1660a",
        "outputId": "3b304516-fef7-4480-f1b3-1a270f989db5"
      },
      "source": [
        "Y.hist()"
      ],
      "id": "c8e1660a",
      "execution_count": null,
      "outputs": [
        {
          "output_type": "execute_result",
          "data": {
            "text/plain": [
              "<matplotlib.axes._subplots.AxesSubplot at 0x7f7384248950>"
            ]
          },
          "metadata": {},
          "execution_count": 70
        },
        {
          "output_type": "display_data",
          "data": {
            "image/png": "[encoded data removed]",
            "text/plain": [
              "<Figure size 432x288 with 1 Axes>"
            ]
          },
          "metadata": {}
        }
      ]
    },
    {
      "cell_type": "markdown",
      "metadata": {
        "id": "ijngtYsorzSp"
      },
      "source": [
        "##Oversampling"
      ],
      "id": "ijngtYsorzSp"
    },
    {
      "cell_type": "code",
      "metadata": {
        "id": "eSPtHnLpph2L",
        "colab": {
          "base_uri": "https://localhost:8080/"
        },
        "outputId": "0567b1af-9cf1-4a69-c7c0-7ae800c8bcce"
      },
      "source": [
        "from imblearn.over_sampling import SMOTE"
      ],
      "id": "eSPtHnLpph2L",
      "execution_count": null,
      "outputs": [
        {
          "output_type": "stream",
          "name": "stderr",
          "text": [
            "/usr/local/lib/python3.7/dist-packages/sklearn/externals/six.py:31: FutureWarning: The module is deprecated in version 0.21 and will be removed in version 0.23 since we've dropped support for Python 2.7. Please rely on the official version of six (https://pypi.org/project/six/).\n",
            "  \"(https://pypi.org/project/six/).\", FutureWarning)\n",
            "/usr/local/lib/python3.7/dist-packages/sklearn/utils/deprecation.py:144: FutureWarning: The sklearn.neighbors.base module is  deprecated in version 0.22 and will be removed in version 0.24. The corresponding classes / functions should instead be imported from sklearn.neighbors. Anything that cannot be imported from sklearn.neighbors is now part of the private API.\n",
            "  warnings.warn(message, FutureWarning)\n"
          ]
        }
      ]
    },
    {
      "cell_type": "code",
      "metadata": {
        "colab": {
          "base_uri": "https://localhost:8080/"
        },
        "id": "V7mrABVfpisD",
        "outputId": "c0e9338e-0aff-4ad6-d39c-f29cedd42a01"
      },
      "source": [
        "sm = SMOTE( random_state=7) #k_neighbours\n",
        "X_train_res, Y_train_res = sm.fit_sample(X, Y)"
      ],
      "id": "V7mrABVfpisD",
      "execution_count": null,
      "outputs": [
        {
          "output_type": "stream",
          "name": "stderr",
          "text": [
            "/usr/local/lib/python3.7/dist-packages/sklearn/utils/deprecation.py:87: FutureWarning: Function safe_indexing is deprecated; safe_indexing is deprecated in version 0.22 and will be removed in version 0.24.\n",
            "  warnings.warn(msg, category=FutureWarning)\n",
            "/usr/local/lib/python3.7/dist-packages/sklearn/utils/deprecation.py:87: FutureWarning: Function safe_indexing is deprecated; safe_indexing is deprecated in version 0.22 and will be removed in version 0.24.\n",
            "  warnings.warn(msg, category=FutureWarning)\n",
            "/usr/local/lib/python3.7/dist-packages/sklearn/utils/deprecation.py:87: FutureWarning: Function safe_indexing is deprecated; safe_indexing is deprecated in version 0.22 and will be removed in version 0.24.\n",
            "  warnings.warn(msg, category=FutureWarning)\n",
            "/usr/local/lib/python3.7/dist-packages/sklearn/utils/deprecation.py:87: FutureWarning: Function safe_indexing is deprecated; safe_indexing is deprecated in version 0.22 and will be removed in version 0.24.\n",
            "  warnings.warn(msg, category=FutureWarning)\n"
          ]
        }
      ]
    },
    {
      "cell_type": "code",
      "metadata": {
        "colab": {
          "base_uri": "https://localhost:8080/"
        },
        "id": "v8_E74SSsBAR",
        "outputId": "d92d7906-aa1e-4cc8-94c6-17ffca9ee8c5"
      },
      "source": [
        "X_train_res.shape, Y_train_res.shape"
      ],
      "id": "v8_E74SSsBAR",
      "execution_count": null,
      "outputs": [
        {
          "output_type": "execute_result",
          "data": {
            "text/plain": [
              "((57595, 10), (57595,))"
            ]
          },
          "metadata": {},
          "execution_count": 73
        }
      ]
    },
    {
      "cell_type": "code",
      "metadata": {
        "colab": {
          "base_uri": "https://localhost:8080/"
        },
        "id": "Nbe3vTwOsGRR",
        "outputId": "e90e7c53-43d4-463e-8631-bc3cdf085987"
      },
      "source": [
        "len(Y_train_res[Y_train_res==0]),len(Y_train_res[Y_train_res==1]),len(Y_train_res[Y_train_res==2]) ,len(Y_train_res[Y_train_res==3]) ,len(Y_train_res[Y_train_res==4]) "
      ],
      "id": "Nbe3vTwOsGRR",
      "execution_count": null,
      "outputs": [
        {
          "output_type": "execute_result",
          "data": {
            "text/plain": [
              "(11519, 11519, 11519, 11519, 11519)"
            ]
          },
          "metadata": {},
          "execution_count": 74
        }
      ]
    },
    {
      "cell_type": "code",
      "metadata": {
        "colab": {
          "base_uri": "https://localhost:8080/",
          "height": 300
        },
        "id": "88634636",
        "outputId": "10e755d9-ef4d-4b35-9e95-e40a51d7a41d"
      },
      "source": [
        "df1.describe()"
      ],
      "id": "88634636",
      "execution_count": null,
      "outputs": [
        {
          "output_type": "execute_result",
          "data": {
            "text/html": [
              "<div>\n",
              "<style scoped>\n",
              "    .dataframe tbody tr th:only-of-type {\n",
              "        vertical-align: middle;\n",
              "    }\n",
              "\n",
              "    .dataframe tbody tr th {\n",
              "        vertical-align: top;\n",
              "    }\n",
              "\n",
              "    .dataframe thead th {\n",
              "        text-align: right;\n",
              "    }\n",
              "</style>\n",
              "<table border=\"1\" class=\"dataframe\">\n",
              "  <thead>\n",
              "    <tr style=\"text-align: right;\">\n",
              "      <th></th>\n",
              "      <th>year</th>\n",
              "      <th>age</th>\n",
              "      <th>occCode</th>\n",
              "      <th>occupation</th>\n",
              "      <th>prestg10</th>\n",
              "      <th>childs</th>\n",
              "      <th>wrkstat</th>\n",
              "      <th>gender</th>\n",
              "      <th>education</th>\n",
              "      <th>maritalstat</th>\n",
              "      <th>Income</th>\n",
              "    </tr>\n",
              "  </thead>\n",
              "  <tbody>\n",
              "    <tr>\n",
              "      <th>count</th>\n",
              "      <td>37752.000000</td>\n",
              "      <td>37752.000000</td>\n",
              "      <td>37752.000000</td>\n",
              "      <td>37752.000000</td>\n",
              "      <td>37752.000000</td>\n",
              "      <td>37752.000000</td>\n",
              "      <td>37752.000000</td>\n",
              "      <td>37752.000000</td>\n",
              "      <td>37752.000000</td>\n",
              "      <td>37752.000000</td>\n",
              "      <td>37752.000000</td>\n",
              "    </tr>\n",
              "    <tr>\n",
              "      <th>mean</th>\n",
              "      <td>1995.962068</td>\n",
              "      <td>40.953274</td>\n",
              "      <td>4567.383132</td>\n",
              "      <td>5.900509</td>\n",
              "      <td>43.764595</td>\n",
              "      <td>1.692281</td>\n",
              "      <td>1.065930</td>\n",
              "      <td>0.495391</td>\n",
              "      <td>1.472558</td>\n",
              "      <td>1.278555</td>\n",
              "      <td>1.336618</td>\n",
              "    </tr>\n",
              "    <tr>\n",
              "      <th>std</th>\n",
              "      <td>12.561370</td>\n",
              "      <td>13.490676</td>\n",
              "      <td>2659.206231</td>\n",
              "      <td>2.820673</td>\n",
              "      <td>13.020523</td>\n",
              "      <td>1.614730</td>\n",
              "      <td>1.948551</td>\n",
              "      <td>0.499985</td>\n",
              "      <td>1.023984</td>\n",
              "      <td>0.887230</td>\n",
              "      <td>1.155613</td>\n",
              "    </tr>\n",
              "    <tr>\n",
              "      <th>min</th>\n",
              "      <td>1974.000000</td>\n",
              "      <td>18.000000</td>\n",
              "      <td>10.000000</td>\n",
              "      <td>0.000000</td>\n",
              "      <td>16.000000</td>\n",
              "      <td>0.000000</td>\n",
              "      <td>0.000000</td>\n",
              "      <td>0.000000</td>\n",
              "      <td>0.000000</td>\n",
              "      <td>0.000000</td>\n",
              "      <td>0.000000</td>\n",
              "    </tr>\n",
              "    <tr>\n",
              "      <th>25%</th>\n",
              "      <td>1986.000000</td>\n",
              "      <td>30.000000</td>\n",
              "      <td>2330.000000</td>\n",
              "      <td>5.000000</td>\n",
              "      <td>35.000000</td>\n",
              "      <td>0.000000</td>\n",
              "      <td>0.000000</td>\n",
              "      <td>0.000000</td>\n",
              "      <td>1.000000</td>\n",
              "      <td>1.000000</td>\n",
              "      <td>0.000000</td>\n",
              "    </tr>\n",
              "    <tr>\n",
              "      <th>50%</th>\n",
              "      <td>1996.000000</td>\n",
              "      <td>39.000000</td>\n",
              "      <td>4700.000000</td>\n",
              "      <td>7.000000</td>\n",
              "      <td>43.000000</td>\n",
              "      <td>2.000000</td>\n",
              "      <td>0.000000</td>\n",
              "      <td>0.000000</td>\n",
              "      <td>1.000000</td>\n",
              "      <td>1.000000</td>\n",
              "      <td>1.000000</td>\n",
              "    </tr>\n",
              "    <tr>\n",
              "      <th>75%</th>\n",
              "      <td>2006.000000</td>\n",
              "      <td>51.000000</td>\n",
              "      <td>6220.000000</td>\n",
              "      <td>8.000000</td>\n",
              "      <td>51.000000</td>\n",
              "      <td>3.000000</td>\n",
              "      <td>1.000000</td>\n",
              "      <td>1.000000</td>\n",
              "      <td>3.000000</td>\n",
              "      <td>2.000000</td>\n",
              "      <td>2.000000</td>\n",
              "    </tr>\n",
              "    <tr>\n",
              "      <th>max</th>\n",
              "      <td>2018.000000</td>\n",
              "      <td>89.000000</td>\n",
              "      <td>9997.000000</td>\n",
              "      <td>10.000000</td>\n",
              "      <td>80.000000</td>\n",
              "      <td>8.000000</td>\n",
              "      <td>7.000000</td>\n",
              "      <td>1.000000</td>\n",
              "      <td>3.000000</td>\n",
              "      <td>4.000000</td>\n",
              "      <td>4.000000</td>\n",
              "    </tr>\n",
              "  </tbody>\n",
              "</table>\n",
              "</div>"
            ],
            "text/plain": [
              "               year           age  ...   maritalstat        Income\n",
              "count  37752.000000  37752.000000  ...  37752.000000  37752.000000\n",
              "mean    1995.962068     40.953274  ...      1.278555      1.336618\n",
              "std       12.561370     13.490676  ...      0.887230      1.155613\n",
              "min     1974.000000     18.000000  ...      0.000000      0.000000\n",
              "25%     1986.000000     30.000000  ...      1.000000      0.000000\n",
              "50%     1996.000000     39.000000  ...      1.000000      1.000000\n",
              "75%     2006.000000     51.000000  ...      2.000000      2.000000\n",
              "max     2018.000000     89.000000  ...      4.000000      4.000000\n",
              "\n",
              "[8 rows x 11 columns]"
            ]
          },
          "metadata": {},
          "execution_count": 75
        }
      ]
    },
    {
      "cell_type": "markdown",
      "metadata": {
        "id": "_9mRJXfAsoS_"
      },
      "source": [
        "##Train test split on oversampling"
      ],
      "id": "_9mRJXfAsoS_"
    },
    {
      "cell_type": "code",
      "metadata": {
        "id": "KuWoYpYdo5zW"
      },
      "source": [
        "from sklearn.model_selection import train_test_split\n",
        "X_train,X_test,Y_train,Y_test = train_test_split(X_train_res,Y_train_res,test_size = 0.3,\n",
        "                                                 random_state=7)"
      ],
      "id": "KuWoYpYdo5zW",
      "execution_count": null,
      "outputs": []
    },
    {
      "cell_type": "code",
      "metadata": {
        "colab": {
          "base_uri": "https://localhost:8080/"
        },
        "id": "eI4POkt8swFs",
        "outputId": "cd443839-b42b-49a7-b487-194749a46dd6"
      },
      "source": [
        "X_train.shape,X_test.shape,Y_train.shape,Y_test.shape"
      ],
      "id": "eI4POkt8swFs",
      "execution_count": null,
      "outputs": [
        {
          "output_type": "execute_result",
          "data": {
            "text/plain": [
              "((40316, 10), (17279, 10), (40316,), (17279,))"
            ]
          },
          "metadata": {},
          "execution_count": 77
        }
      ]
    },
    {
      "cell_type": "markdown",
      "metadata": {
        "id": "e8d5fb70"
      },
      "source": [
        "### Apply machine learning models"
      ],
      "id": "e8d5fb70"
    },
    {
      "cell_type": "code",
      "metadata": {
        "id": "9420e1ff"
      },
      "source": [
        "def eval_model(Y_test,Y_predict):\n",
        "    from sklearn.metrics import confusion_matrix,accuracy_score\n",
        "    cf_mat=confusion_matrix(Y_test,Y_predict)\n",
        "    acc=accuracy_score(Y_test,Y_predict)\n",
        "    return cf_mat,acc"
      ],
      "id": "9420e1ff",
      "execution_count": null,
      "outputs": []
    },
    {
      "cell_type": "code",
      "metadata": {
        "id": "30f362e1"
      },
      "source": [
        "from sklearn.ensemble import  GradientBoostingClassifier, AdaBoostClassifier,RandomForestClassifier\n",
        "from sklearn.tree import DecisionTreeClassifier\n",
        "\n",
        "rfc = RandomForestClassifier(random_state=7)\n",
        "gbc = GradientBoostingClassifier(random_state=7)\n",
        "adc = AdaBoostClassifier(random_state=7)\n",
        "dct = DecisionTreeClassifier() \n"
      ],
      "id": "30f362e1",
      "execution_count": null,
      "outputs": []
    },
    {
      "cell_type": "code",
      "metadata": {
        "colab": {
          "base_uri": "https://localhost:8080/"
        },
        "id": "d79222cb",
        "outputId": "da6809f8-e57a-40ad-d58a-1618f86f06b3"
      },
      "source": [
        "for model in [rfc,gbc,adc,dct]:\n",
        "    print(model.__class__)\n",
        "    model.fit(X_train,Y_train)\n",
        "    Y_predict = model.predict(X_test)\n",
        "    cf_mat, acc = eval_model(Y_test,Y_predict)\n",
        "    print(\"Confusion Matrix \\n\",cf_mat)\n",
        "    print(\"Accuracy : \",acc)"
      ],
      "id": "d79222cb",
      "execution_count": null,
      "outputs": [
        {
          "output_type": "stream",
          "name": "stdout",
          "text": [
            "<class 'sklearn.ensemble._forest.RandomForestClassifier'>\n",
            "Confusion Matrix \n",
            " [[2241  780  269  147   26]\n",
            " [ 812 1543  732  341   55]\n",
            " [ 260  641 1778  614  110]\n",
            " [ 105  287  593 2168  279]\n",
            " [  12   14   43   92 3337]]\n",
            "Accuracy :  0.640488454192951\n",
            "<class 'sklearn.ensemble._gb.GradientBoostingClassifier'>\n",
            "Confusion Matrix \n",
            " [[2272  778  236  106   71]\n",
            " [ 773 1598  692  305  115]\n",
            " [ 257  751 1407  708  280]\n",
            " [ 101  295  795 1466  775]\n",
            " [  26   58  166  328 2920]]\n",
            "Accuracy :  0.559233751953238\n",
            "<class 'sklearn.ensemble._weight_boosting.AdaBoostClassifier'>\n",
            "Confusion Matrix \n",
            " [[2143  845  274  124   77]\n",
            " [ 791 1454  756  334  148]\n",
            " [ 295  711 1229  847  321]\n",
            " [ 149  301  791 1360  831]\n",
            " [  39   58  154  581 2666]]\n",
            "Accuracy :  0.5122981654030905\n",
            "<class 'sklearn.tree._classes.DecisionTreeClassifier'>\n",
            "Confusion Matrix \n",
            " [[1892  891  394  233   53]\n",
            " [ 884 1286  742  472   99]\n",
            " [ 353  728 1503  705  114]\n",
            " [ 193  407  713 1812  307]\n",
            " [  29   37  102  217 3113]]\n",
            "Accuracy :  0.5559349499392326\n"
          ]
        }
      ]
    },
    {
      "cell_type": "markdown",
      "metadata": {
        "id": "4gsnRlqatsf5"
      },
      "source": [
        "## Fine tuning and feature selection"
      ],
      "id": "4gsnRlqatsf5"
    },
    {
      "cell_type": "code",
      "metadata": {
        "id": "17c390cf"
      },
      "source": [
        "##Fine tuning of adaBoost\n",
        "from sklearn.ensemble import  GradientBoostingClassifier, AdaBoostClassifier,RandomForestClassifier\n",
        "from sklearn.tree import DecisionTreeClassifier\n",
        "from sklearn.svm import SVC\n",
        "\n",
        "param_grid = { \n",
        "    'n_estimators': [100,150,200],\n",
        "    'base_estimator' : [DecisionTreeClassifier(random_state=7)],\n",
        "}\n",
        "\n",
        "from sklearn.model_selection import GridSearchCV\n",
        "\n",
        "abc = AdaBoostClassifier(algorithm='SAMME',random_state=7)\n",
        "\n",
        "CV_abc = GridSearchCV(estimator=abc, param_grid=param_grid,\\\n",
        "                      cv= 2, verbose=2)\n"
      ],
      "id": "17c390cf",
      "execution_count": null,
      "outputs": []
    },
    {
      "cell_type": "code",
      "metadata": {
        "colab": {
          "base_uri": "https://localhost:8080/"
        },
        "id": "d4cda940",
        "outputId": "66231579-5abc-4c01-aece-d30a1209f649"
      },
      "source": [
        "CV_abc.fit(X_train, Y_train)"
      ],
      "id": "d4cda940",
      "execution_count": null,
      "outputs": [
        {
          "output_type": "stream",
          "name": "stdout",
          "text": [
            "Fitting 2 folds for each of 3 candidates, totalling 6 fits\n",
            "[CV] base_estimator=DecisionTreeClassifier(ccp_alpha=0.0, class_weight=None, criterion='gini',\n",
            "                       max_depth=None, max_features=None, max_leaf_nodes=None,\n",
            "                       min_impurity_decrease=0.0, min_impurity_split=None,\n",
            "                       min_samples_leaf=1, min_samples_split=2,\n",
            "                       min_weight_fraction_leaf=0.0, presort='deprecated',\n",
            "                       random_state=7, splitter='best'), n_estimators=100 \n"
          ]
        },
        {
          "output_type": "stream",
          "name": "stderr",
          "text": [
            "[Parallel(n_jobs=1)]: Using backend SequentialBackend with 1 concurrent workers.\n"
          ]
        },
        {
          "output_type": "stream",
          "name": "stdout",
          "text": [
            "[CV]  base_estimator=DecisionTreeClassifier(ccp_alpha=0.0, class_weight=None, criterion='gini',\n",
            "                       max_depth=None, max_features=None, max_leaf_nodes=None,\n",
            "                       min_impurity_decrease=0.0, min_impurity_split=None,\n",
            "                       min_samples_leaf=1, min_samples_split=2,\n",
            "                       min_weight_fraction_leaf=0.0, presort='deprecated',\n",
            "                       random_state=7, splitter='best'), n_estimators=100, total=  14.6s\n",
            "[CV] base_estimator=DecisionTreeClassifier(ccp_alpha=0.0, class_weight=None, criterion='gini',\n",
            "                       max_depth=None, max_features=None, max_leaf_nodes=None,\n",
            "                       min_impurity_decrease=0.0, min_impurity_split=None,\n",
            "                       min_samples_leaf=1, min_samples_split=2,\n",
            "                       min_weight_fraction_leaf=0.0, presort='deprecated',\n",
            "                       random_state=7, splitter='best'), n_estimators=100 \n"
          ]
        },
        {
          "output_type": "stream",
          "name": "stderr",
          "text": [
            "[Parallel(n_jobs=1)]: Done   1 out of   1 | elapsed:   14.6s remaining:    0.0s\n"
          ]
        },
        {
          "output_type": "stream",
          "name": "stdout",
          "text": [
            "[CV]  base_estimator=DecisionTreeClassifier(ccp_alpha=0.0, class_weight=None, criterion='gini',\n",
            "                       max_depth=None, max_features=None, max_leaf_nodes=None,\n",
            "                       min_impurity_decrease=0.0, min_impurity_split=None,\n",
            "                       min_samples_leaf=1, min_samples_split=2,\n",
            "                       min_weight_fraction_leaf=0.0, presort='deprecated',\n",
            "                       random_state=7, splitter='best'), n_estimators=100, total=  33.0s\n",
            "[CV] base_estimator=DecisionTreeClassifier(ccp_alpha=0.0, class_weight=None, criterion='gini',\n",
            "                       max_depth=None, max_features=None, max_leaf_nodes=None,\n",
            "                       min_impurity_decrease=0.0, min_impurity_split=None,\n",
            "                       min_samples_leaf=1, min_samples_split=2,\n",
            "                       min_weight_fraction_leaf=0.0, presort='deprecated',\n",
            "                       random_state=7, splitter='best'), n_estimators=150 \n",
            "[CV]  base_estimator=DecisionTreeClassifier(ccp_alpha=0.0, class_weight=None, criterion='gini',\n",
            "                       max_depth=None, max_features=None, max_leaf_nodes=None,\n",
            "                       min_impurity_decrease=0.0, min_impurity_split=None,\n",
            "                       min_samples_leaf=1, min_samples_split=2,\n",
            "                       min_weight_fraction_leaf=0.0, presort='deprecated',\n",
            "                       random_state=7, splitter='best'), n_estimators=150, total=  29.7s\n",
            "[CV] base_estimator=DecisionTreeClassifier(ccp_alpha=0.0, class_weight=None, criterion='gini',\n",
            "                       max_depth=None, max_features=None, max_leaf_nodes=None,\n",
            "                       min_impurity_decrease=0.0, min_impurity_split=None,\n",
            "                       min_samples_leaf=1, min_samples_split=2,\n",
            "                       min_weight_fraction_leaf=0.0, presort='deprecated',\n",
            "                       random_state=7, splitter='best'), n_estimators=150 \n",
            "[CV]  base_estimator=DecisionTreeClassifier(ccp_alpha=0.0, class_weight=None, criterion='gini',\n",
            "                       max_depth=None, max_features=None, max_leaf_nodes=None,\n",
            "                       min_impurity_decrease=0.0, min_impurity_split=None,\n",
            "                       min_samples_leaf=1, min_samples_split=2,\n",
            "                       min_weight_fraction_leaf=0.0, presort='deprecated',\n",
            "                       random_state=7, splitter='best'), n_estimators=150, total= 1.2min\n",
            "[CV] base_estimator=DecisionTreeClassifier(ccp_alpha=0.0, class_weight=None, criterion='gini',\n",
            "                       max_depth=None, max_features=None, max_leaf_nodes=None,\n",
            "                       min_impurity_decrease=0.0, min_impurity_split=None,\n",
            "                       min_samples_leaf=1, min_samples_split=2,\n",
            "                       min_weight_fraction_leaf=0.0, presort='deprecated',\n",
            "                       random_state=7, splitter='best'), n_estimators=200 \n",
            "[CV]  base_estimator=DecisionTreeClassifier(ccp_alpha=0.0, class_weight=None, criterion='gini',\n",
            "                       max_depth=None, max_features=None, max_leaf_nodes=None,\n",
            "                       min_impurity_decrease=0.0, min_impurity_split=None,\n",
            "                       min_samples_leaf=1, min_samples_split=2,\n",
            "                       min_weight_fraction_leaf=0.0, presort='deprecated',\n",
            "                       random_state=7, splitter='best'), n_estimators=200, total=  44.2s\n",
            "[CV] base_estimator=DecisionTreeClassifier(ccp_alpha=0.0, class_weight=None, criterion='gini',\n",
            "                       max_depth=None, max_features=None, max_leaf_nodes=None,\n",
            "                       min_impurity_decrease=0.0, min_impurity_split=None,\n",
            "                       min_samples_leaf=1, min_samples_split=2,\n",
            "                       min_weight_fraction_leaf=0.0, presort='deprecated',\n",
            "                       random_state=7, splitter='best'), n_estimators=200 \n",
            "[CV]  base_estimator=DecisionTreeClassifier(ccp_alpha=0.0, class_weight=None, criterion='gini',\n",
            "                       max_depth=None, max_features=None, max_leaf_nodes=None,\n",
            "                       min_impurity_decrease=0.0, min_impurity_split=None,\n",
            "                       min_samples_leaf=1, min_samples_split=2,\n",
            "                       min_weight_fraction_leaf=0.0, presort='deprecated',\n",
            "                       random_state=7, splitter='best'), n_estimators=200, total= 1.9min\n"
          ]
        },
        {
          "output_type": "stream",
          "name": "stderr",
          "text": [
            "[Parallel(n_jobs=1)]: Done   6 out of   6 | elapsed:  5.1min finished\n"
          ]
        },
        {
          "output_type": "execute_result",
          "data": {
            "text/plain": [
              "GridSearchCV(cv=2, error_score=nan,\n",
              "             estimator=AdaBoostClassifier(algorithm='SAMME',\n",
              "                                          base_estimator=None,\n",
              "                                          learning_rate=1.0, n_estimators=50,\n",
              "                                          random_state=7),\n",
              "             iid='deprecated', n_jobs=None,\n",
              "             param_grid={'base_estimator': [DecisionTreeClassifier(ccp_alpha=0.0,\n",
              "                                                                   class_weight=None,\n",
              "                                                                   criterion='gini',\n",
              "                                                                   max_depth=None,\n",
              "                                                                   max_features=None,\n",
              "                                                                   max_leaf_nodes=None,\n",
              "                                                                   min_impurity_decrease=0.0,\n",
              "                                                                   min_impurity_split=None,\n",
              "                                                                   min_samples_leaf=1,\n",
              "                                                                   min_samples_split=2,\n",
              "                                                                   min_weight_fraction_leaf=0.0,\n",
              "                                                                   presort='deprecated',\n",
              "                                                                   random_state=7,\n",
              "                                                                   splitter='best')],\n",
              "                         'n_estimators': [100, 150, 200]},\n",
              "             pre_dispatch='2*n_jobs', refit=True, return_train_score=False,\n",
              "             scoring=None, verbose=2)"
            ]
          },
          "metadata": {},
          "execution_count": 104
        }
      ]
    },
    {
      "cell_type": "code",
      "metadata": {
        "colab": {
          "base_uri": "https://localhost:8080/"
        },
        "id": "7c0cb8ca",
        "outputId": "38947939-32f3-425b-a42f-2a26ac103bf1"
      },
      "source": [
        "print(CV_abc.best_params_)\n",
        "print(CV_abc.cv_results_['mean_test_score'])\n",
        "print(sum(CV_abc.cv_results_['mean_test_score'])/ len(CV_abc.cv_results_['mean_test_score']))"
      ],
      "id": "7c0cb8ca",
      "execution_count": null,
      "outputs": [
        {
          "output_type": "stream",
          "name": "stdout",
          "text": [
            "{'base_estimator': DecisionTreeClassifier(ccp_alpha=0.0, class_weight=None, criterion='gini',\n",
            "                       max_depth=None, max_features=None, max_leaf_nodes=None,\n",
            "                       min_impurity_decrease=0.0, min_impurity_split=None,\n",
            "                       min_samples_leaf=1, min_samples_split=2,\n",
            "                       min_weight_fraction_leaf=0.0, presort='deprecated',\n",
            "                       random_state=7, splitter='best'), 'n_estimators': 150}\n",
            "[0.58559877 0.60256474 0.60653339]\n",
            "0.5982322981777293\n"
          ]
        }
      ]
    },
    {
      "cell_type": "code",
      "metadata": {
        "colab": {
          "base_uri": "https://localhost:8080/"
        },
        "id": "a6f84732",
        "outputId": "d81186d3-a599-4a06-e408-99215b6d6daf"
      },
      "source": [
        "param_grid = { \n",
        "    'n_estimators': [100,150,200],\n",
        "    'subsample' : [0.99,0.9],\n",
        "    'n_iter_no_change' : [20,15],\n",
        "    'learning_rate' : [0.3,0.2]\n",
        "}\n",
        "\n",
        "xgbc = GradientBoostingClassifier(random_state=7)\n",
        "\n",
        "from sklearn.model_selection import GridSearchCV\n",
        "CV_xgbc = GridSearchCV(estimator=xgbc, param_grid=param_grid,\\\n",
        "                      cv= 2, verbose=2)\n",
        "\n",
        "CV_xgbc.fit(X_train, Y_train)\n",
        "\n",
        "print(CV_xgbc.best_params_)\n",
        "print(CV_xgbc.cv_results_['mean_test_score'])\n",
        "print(sum(CV_xgbc.cv_results_['mean_test_score'])/ len(CV_xgbc.cv_results_['mean_test_score']))"
      ],
      "id": "a6f84732",
      "execution_count": null,
      "outputs": [
        {
          "output_type": "stream",
          "name": "stdout",
          "text": [
            "Fitting 2 folds for each of 24 candidates, totalling 48 fits\n",
            "[CV] learning_rate=0.3, n_estimators=100, n_iter_no_change=20, subsample=0.99 \n"
          ]
        },
        {
          "output_type": "stream",
          "name": "stderr",
          "text": [
            "[Parallel(n_jobs=1)]: Using backend SequentialBackend with 1 concurrent workers.\n"
          ]
        },
        {
          "output_type": "stream",
          "name": "stdout",
          "text": [
            "[CV]  learning_rate=0.3, n_estimators=100, n_iter_no_change=20, subsample=0.99, total=  15.8s\n",
            "[CV] learning_rate=0.3, n_estimators=100, n_iter_no_change=20, subsample=0.99 \n"
          ]
        },
        {
          "output_type": "stream",
          "name": "stderr",
          "text": [
            "[Parallel(n_jobs=1)]: Done   1 out of   1 | elapsed:   15.8s remaining:    0.0s\n"
          ]
        },
        {
          "output_type": "stream",
          "name": "stdout",
          "text": [
            "[CV]  learning_rate=0.3, n_estimators=100, n_iter_no_change=20, subsample=0.99, total=  14.5s\n",
            "[CV] learning_rate=0.3, n_estimators=100, n_iter_no_change=20, subsample=0.9 \n",
            "[CV]  learning_rate=0.3, n_estimators=100, n_iter_no_change=20, subsample=0.9, total=  15.1s\n",
            "[CV] learning_rate=0.3, n_estimators=100, n_iter_no_change=20, subsample=0.9 \n",
            "[CV]  learning_rate=0.3, n_estimators=100, n_iter_no_change=20, subsample=0.9, total=  15.0s\n",
            "[CV] learning_rate=0.3, n_estimators=100, n_iter_no_change=15, subsample=0.99 \n",
            "[CV]  learning_rate=0.3, n_estimators=100, n_iter_no_change=15, subsample=0.99, total=  16.0s\n",
            "[CV] learning_rate=0.3, n_estimators=100, n_iter_no_change=15, subsample=0.99 \n",
            "[CV]  learning_rate=0.3, n_estimators=100, n_iter_no_change=15, subsample=0.99, total=  14.2s\n",
            "[CV] learning_rate=0.3, n_estimators=100, n_iter_no_change=15, subsample=0.9 \n",
            "[CV]  learning_rate=0.3, n_estimators=100, n_iter_no_change=15, subsample=0.9, total=  14.8s\n",
            "[CV] learning_rate=0.3, n_estimators=100, n_iter_no_change=15, subsample=0.9 \n",
            "[CV]  learning_rate=0.3, n_estimators=100, n_iter_no_change=15, subsample=0.9, total=   8.2s\n",
            "[CV] learning_rate=0.3, n_estimators=150, n_iter_no_change=20, subsample=0.99 \n",
            "[CV]  learning_rate=0.3, n_estimators=150, n_iter_no_change=20, subsample=0.99, total=  24.0s\n",
            "[CV] learning_rate=0.3, n_estimators=150, n_iter_no_change=20, subsample=0.99 \n",
            "[CV]  learning_rate=0.3, n_estimators=150, n_iter_no_change=20, subsample=0.99, total=  14.2s\n",
            "[CV] learning_rate=0.3, n_estimators=150, n_iter_no_change=20, subsample=0.9 \n",
            "[CV]  learning_rate=0.3, n_estimators=150, n_iter_no_change=20, subsample=0.9, total=  14.9s\n",
            "[CV] learning_rate=0.3, n_estimators=150, n_iter_no_change=20, subsample=0.9 \n",
            "[CV]  learning_rate=0.3, n_estimators=150, n_iter_no_change=20, subsample=0.9, total=  17.6s\n",
            "[CV] learning_rate=0.3, n_estimators=150, n_iter_no_change=15, subsample=0.99 \n",
            "[CV]  learning_rate=0.3, n_estimators=150, n_iter_no_change=15, subsample=0.99, total=  24.2s\n",
            "[CV] learning_rate=0.3, n_estimators=150, n_iter_no_change=15, subsample=0.99 \n",
            "[CV]  learning_rate=0.3, n_estimators=150, n_iter_no_change=15, subsample=0.99, total=  14.3s\n",
            "[CV] learning_rate=0.3, n_estimators=150, n_iter_no_change=15, subsample=0.9 \n",
            "[CV]  learning_rate=0.3, n_estimators=150, n_iter_no_change=15, subsample=0.9, total=  15.0s\n",
            "[CV] learning_rate=0.3, n_estimators=150, n_iter_no_change=15, subsample=0.9 \n",
            "[CV]  learning_rate=0.3, n_estimators=150, n_iter_no_change=15, subsample=0.9, total=   8.2s\n",
            "[CV] learning_rate=0.3, n_estimators=200, n_iter_no_change=20, subsample=0.99 \n",
            "[CV]  learning_rate=0.3, n_estimators=200, n_iter_no_change=20, subsample=0.99, total=  25.2s\n",
            "[CV] learning_rate=0.3, n_estimators=200, n_iter_no_change=20, subsample=0.99 \n",
            "[CV]  learning_rate=0.3, n_estimators=200, n_iter_no_change=20, subsample=0.99, total=  14.2s\n",
            "[CV] learning_rate=0.3, n_estimators=200, n_iter_no_change=20, subsample=0.9 \n",
            "[CV]  learning_rate=0.3, n_estimators=200, n_iter_no_change=20, subsample=0.9, total=  15.0s\n",
            "[CV] learning_rate=0.3, n_estimators=200, n_iter_no_change=20, subsample=0.9 \n",
            "[CV]  learning_rate=0.3, n_estimators=200, n_iter_no_change=20, subsample=0.9, total=  17.5s\n",
            "[CV] learning_rate=0.3, n_estimators=200, n_iter_no_change=15, subsample=0.99 \n",
            "[CV]  learning_rate=0.3, n_estimators=200, n_iter_no_change=15, subsample=0.99, total=  25.5s\n",
            "[CV] learning_rate=0.3, n_estimators=200, n_iter_no_change=15, subsample=0.99 \n",
            "[CV]  learning_rate=0.3, n_estimators=200, n_iter_no_change=15, subsample=0.99, total=  14.3s\n",
            "[CV] learning_rate=0.3, n_estimators=200, n_iter_no_change=15, subsample=0.9 \n",
            "[CV]  learning_rate=0.3, n_estimators=200, n_iter_no_change=15, subsample=0.9, total=  14.8s\n",
            "[CV] learning_rate=0.3, n_estimators=200, n_iter_no_change=15, subsample=0.9 \n",
            "[CV]  learning_rate=0.3, n_estimators=200, n_iter_no_change=15, subsample=0.9, total=   8.2s\n",
            "[CV] learning_rate=0.2, n_estimators=100, n_iter_no_change=20, subsample=0.99 \n",
            "[CV]  learning_rate=0.2, n_estimators=100, n_iter_no_change=20, subsample=0.99, total=  15.8s\n",
            "[CV] learning_rate=0.2, n_estimators=100, n_iter_no_change=20, subsample=0.99 \n",
            "[CV]  learning_rate=0.2, n_estimators=100, n_iter_no_change=20, subsample=0.99, total=  15.6s\n",
            "[CV] learning_rate=0.2, n_estimators=100, n_iter_no_change=20, subsample=0.9 \n",
            "[CV]  learning_rate=0.2, n_estimators=100, n_iter_no_change=20, subsample=0.9, total=  14.8s\n",
            "[CV] learning_rate=0.2, n_estimators=100, n_iter_no_change=20, subsample=0.9 \n",
            "[CV]  learning_rate=0.2, n_estimators=100, n_iter_no_change=20, subsample=0.9, total=  14.9s\n",
            "[CV] learning_rate=0.2, n_estimators=100, n_iter_no_change=15, subsample=0.99 \n",
            "[CV]  learning_rate=0.2, n_estimators=100, n_iter_no_change=15, subsample=0.99, total=  15.8s\n",
            "[CV] learning_rate=0.2, n_estimators=100, n_iter_no_change=15, subsample=0.99 \n",
            "[CV]  learning_rate=0.2, n_estimators=100, n_iter_no_change=15, subsample=0.99, total=  15.9s\n",
            "[CV] learning_rate=0.2, n_estimators=100, n_iter_no_change=15, subsample=0.9 \n",
            "[CV]  learning_rate=0.2, n_estimators=100, n_iter_no_change=15, subsample=0.9, total=  15.0s\n",
            "[CV] learning_rate=0.2, n_estimators=100, n_iter_no_change=15, subsample=0.9 \n",
            "[CV]  learning_rate=0.2, n_estimators=100, n_iter_no_change=15, subsample=0.9, total=  15.3s\n",
            "[CV] learning_rate=0.2, n_estimators=150, n_iter_no_change=20, subsample=0.99 \n",
            "[CV]  learning_rate=0.2, n_estimators=150, n_iter_no_change=20, subsample=0.99, total=  23.7s\n",
            "[CV] learning_rate=0.2, n_estimators=150, n_iter_no_change=20, subsample=0.99 \n",
            "[CV]  learning_rate=0.2, n_estimators=150, n_iter_no_change=20, subsample=0.99, total=  23.8s\n",
            "[CV] learning_rate=0.2, n_estimators=150, n_iter_no_change=20, subsample=0.9 \n",
            "[CV]  learning_rate=0.2, n_estimators=150, n_iter_no_change=20, subsample=0.9, total=  22.0s\n",
            "[CV] learning_rate=0.2, n_estimators=150, n_iter_no_change=20, subsample=0.9 \n",
            "[CV]  learning_rate=0.2, n_estimators=150, n_iter_no_change=20, subsample=0.9, total=  22.6s\n",
            "[CV] learning_rate=0.2, n_estimators=150, n_iter_no_change=15, subsample=0.99 \n",
            "[CV]  learning_rate=0.2, n_estimators=150, n_iter_no_change=15, subsample=0.99, total=  21.3s\n",
            "[CV] learning_rate=0.2, n_estimators=150, n_iter_no_change=15, subsample=0.99 \n",
            "[CV]  learning_rate=0.2, n_estimators=150, n_iter_no_change=15, subsample=0.99, total=  23.7s\n",
            "[CV] learning_rate=0.2, n_estimators=150, n_iter_no_change=15, subsample=0.9 \n",
            "[CV]  learning_rate=0.2, n_estimators=150, n_iter_no_change=15, subsample=0.9, total=  15.2s\n",
            "[CV] learning_rate=0.2, n_estimators=150, n_iter_no_change=15, subsample=0.9 \n",
            "[CV]  learning_rate=0.2, n_estimators=150, n_iter_no_change=15, subsample=0.9, total=  22.4s\n",
            "[CV] learning_rate=0.2, n_estimators=200, n_iter_no_change=20, subsample=0.99 \n",
            "[CV]  learning_rate=0.2, n_estimators=200, n_iter_no_change=20, subsample=0.99, total=  31.8s\n",
            "[CV] learning_rate=0.2, n_estimators=200, n_iter_no_change=20, subsample=0.99 \n",
            "[CV]  learning_rate=0.2, n_estimators=200, n_iter_no_change=20, subsample=0.99, total=  32.1s\n",
            "[CV] learning_rate=0.2, n_estimators=200, n_iter_no_change=20, subsample=0.9 \n",
            "[CV]  learning_rate=0.2, n_estimators=200, n_iter_no_change=20, subsample=0.9, total=  29.9s\n",
            "[CV] learning_rate=0.2, n_estimators=200, n_iter_no_change=20, subsample=0.9 \n",
            "[CV]  learning_rate=0.2, n_estimators=200, n_iter_no_change=20, subsample=0.9, total=  24.4s\n",
            "[CV] learning_rate=0.2, n_estimators=200, n_iter_no_change=15, subsample=0.99 \n",
            "[CV]  learning_rate=0.2, n_estimators=200, n_iter_no_change=15, subsample=0.99, total=  21.5s\n",
            "[CV] learning_rate=0.2, n_estimators=200, n_iter_no_change=15, subsample=0.99 \n",
            "[CV]  learning_rate=0.2, n_estimators=200, n_iter_no_change=15, subsample=0.99, total=  31.8s\n",
            "[CV] learning_rate=0.2, n_estimators=200, n_iter_no_change=15, subsample=0.9 \n",
            "[CV]  learning_rate=0.2, n_estimators=200, n_iter_no_change=15, subsample=0.9, total=  15.0s\n",
            "[CV] learning_rate=0.2, n_estimators=200, n_iter_no_change=15, subsample=0.9 \n",
            "[CV]  learning_rate=0.2, n_estimators=200, n_iter_no_change=15, subsample=0.9, total=  24.3s\n"
          ]
        },
        {
          "output_type": "stream",
          "name": "stderr",
          "text": [
            "[Parallel(n_jobs=1)]: Done  48 out of  48 | elapsed: 14.8min finished\n"
          ]
        },
        {
          "output_type": "stream",
          "name": "stdout",
          "text": [
            "{'learning_rate': 0.2, 'n_estimators': 200, 'n_iter_no_change': 20, 'subsample': 0.99}\n",
            "[0.59524754 0.59467705 0.59524754 0.59338724 0.59604127 0.59661177\n",
            " 0.59604127 0.5937345  0.59626451 0.59661177 0.59626451 0.5937345\n",
            " 0.59237027 0.59241988 0.59237027 0.59241988 0.59693422 0.59713265\n",
            " 0.59569402 0.5949995  0.59996031 0.59941462 0.59770315 0.59569402]\n",
            "0.5954573453054207\n"
          ]
        }
      ]
    },
    {
      "cell_type": "code",
      "metadata": {
        "id": "a7AsF2qIBd8S"
      },
      "source": [
        "xgbc = GradientBoostingClassifier(learning_rate = 0.2, n_estimators = 200, n_iter_no_change= 20, subsample= 0.99,random_state=7)"
      ],
      "id": "a7AsF2qIBd8S",
      "execution_count": null,
      "outputs": []
    },
    {
      "cell_type": "code",
      "metadata": {
        "colab": {
          "base_uri": "https://localhost:8080/"
        },
        "id": "QlyvICV1CCcK",
        "outputId": "ce98f1d1-c188-4ddb-d972-3c29bc3a34c6"
      },
      "source": [
        "xgbc.fit(X_train,Y_train)"
      ],
      "id": "QlyvICV1CCcK",
      "execution_count": null,
      "outputs": [
        {
          "output_type": "execute_result",
          "data": {
            "text/plain": [
              "GradientBoostingClassifier(ccp_alpha=0.0, criterion='friedman_mse', init=None,\n",
              "                           learning_rate=0.2, loss='deviance', max_depth=3,\n",
              "                           max_features=None, max_leaf_nodes=None,\n",
              "                           min_impurity_decrease=0.0, min_impurity_split=None,\n",
              "                           min_samples_leaf=1, min_samples_split=2,\n",
              "                           min_weight_fraction_leaf=0.0, n_estimators=200,\n",
              "                           n_iter_no_change=20, presort='deprecated',\n",
              "                           random_state=7, subsample=0.99, tol=0.0001,\n",
              "                           validation_fraction=0.1, verbose=0,\n",
              "                           warm_start=False)"
            ]
          },
          "metadata": {},
          "execution_count": 72
        }
      ]
    },
    {
      "cell_type": "code",
      "metadata": {
        "id": "bPb0_7t-Cfij"
      },
      "source": [
        "y_pred=xgbc.predict(X_test)"
      ],
      "id": "bPb0_7t-Cfij",
      "execution_count": null,
      "outputs": []
    },
    {
      "cell_type": "code",
      "metadata": {
        "colab": {
          "base_uri": "https://localhost:8080/"
        },
        "id": "7AILlDViC-EN",
        "outputId": "7eec26a2-11dd-4523-f60f-4820fcaef3c5"
      },
      "source": [
        "from sklearn.metrics import accuracy_score\n",
        "acc=accuracy_score(Y_test,y_pred)\n",
        "acc"
      ],
      "id": "7AILlDViC-EN",
      "execution_count": null,
      "outputs": [
        {
          "output_type": "execute_result",
          "data": {
            "text/plain": [
              "0.6136929220440998"
            ]
          },
          "metadata": {},
          "execution_count": 74
        }
      ]
    },
    {
      "cell_type": "code",
      "metadata": {
        "id": "8fa920a2",
        "colab": {
          "base_uri": "https://localhost:8080/"
        },
        "outputId": "e60e10a3-c3b4-4f2c-e0bd-99fcdd8f98a2"
      },
      "source": [
        "\n",
        "from sklearn.decomposition import PCA# Make an instance of the Model\n",
        "pca = PCA(10) \n",
        "pca.fit(X_train)\n",
        "X_train_new = pca.transform(X_train)\n",
        "X_test_new = pca.transform(X_test)\n",
        "print(X_train_new.shape)\n",
        "X_train_new"
      ],
      "id": "8fa920a2",
      "execution_count": null,
      "outputs": [
        {
          "output_type": "stream",
          "name": "stdout",
          "text": [
            "(40316, 10)\n"
          ]
        },
        {
          "output_type": "execute_result",
          "data": {
            "text/plain": [
              "array([[-7.10749798e-01, -2.38922249e+01,  1.24338463e+01, ...,\n",
              "        -1.39557944e-01, -1.76252062e-01,  6.84139548e-02],\n",
              "       [-4.27134383e+00,  1.23202796e+01, -1.42369375e+01, ...,\n",
              "        -1.23696449e-01, -3.29585330e-01,  1.59071649e-01],\n",
              "       [-4.28350790e-02,  1.29731548e+01,  1.10980173e+01, ...,\n",
              "        -3.45169290e-01, -2.81900044e-01, -9.20674971e-03],\n",
              "       ...,\n",
              "       [ 1.09120656e+01,  1.38042152e+01, -6.31276621e+00, ...,\n",
              "         5.88153221e-02, -7.59231873e-01, -2.73184798e-01],\n",
              "       [-1.26467763e+01,  2.68868761e+00,  7.53132700e+00, ...,\n",
              "        -2.70323160e-01, -3.89421151e-02, -9.20414925e-02],\n",
              "       [ 1.74494052e+01,  2.02705074e+01, -5.73199359e+00, ...,\n",
              "         6.33060284e-01,  5.91138927e-02, -1.23362117e-01]])"
            ]
          },
          "metadata": {},
          "execution_count": 89
        }
      ]
    },
    {
      "cell_type": "code",
      "metadata": {
        "id": "0c0fefd9",
        "colab": {
          "base_uri": "https://localhost:8080/"
        },
        "outputId": "a464f77f-f917-4b4d-f75f-c37d4fd11966"
      },
      "source": [
        "pca.explained_variance_ratio_\n"
      ],
      "id": "0c0fefd9",
      "execution_count": null,
      "outputs": [
        {
          "output_type": "execute_result",
          "data": {
            "text/plain": [
              "array([4.32050441e-01, 3.04100511e-01, 2.56000726e-01, 3.66187320e-03,\n",
              "       1.35271040e-03, 5.27883321e-04, 4.10278134e-04, 3.44342629e-04,\n",
              "       2.27643649e-04, 1.79607487e-04])"
            ]
          },
          "metadata": {},
          "execution_count": 90
        }
      ]
    },
    {
      "cell_type": "code",
      "metadata": {
        "id": "8be89271",
        "colab": {
          "base_uri": "https://localhost:8080/"
        },
        "outputId": "5b1636cf-15cb-46b2-a9d5-12fd6cf9d291"
      },
      "source": [
        "pca.explained_variance_"
      ],
      "id": "8be89271",
      "execution_count": null,
      "outputs": [
        {
          "output_type": "execute_result",
          "data": {
            "text/plain": [
              "array([2.26906585e+02, 1.59709149e+02, 1.34447845e+02, 1.92316236e+00,\n",
              "       7.10423759e-01, 2.77236615e-01, 2.15472088e-01, 1.80843723e-01,\n",
              "       1.19555121e-01, 9.43272306e-02])"
            ]
          },
          "metadata": {},
          "execution_count": 91
        }
      ]
    },
    {
      "cell_type": "code",
      "metadata": {
        "colab": {
          "base_uri": "https://localhost:8080/",
          "height": 394
        },
        "id": "kLKOSFn_iOzN",
        "outputId": "d116f783-2307-4e16-b0cf-7f1f2556bc12"
      },
      "source": [
        "df1.corr()"
      ],
      "id": "kLKOSFn_iOzN",
      "execution_count": null,
      "outputs": [
        {
          "output_type": "execute_result",
          "data": {
            "text/html": [
              "<div>\n",
              "<style scoped>\n",
              "    .dataframe tbody tr th:only-of-type {\n",
              "        vertical-align: middle;\n",
              "    }\n",
              "\n",
              "    .dataframe tbody tr th {\n",
              "        vertical-align: top;\n",
              "    }\n",
              "\n",
              "    .dataframe thead th {\n",
              "        text-align: right;\n",
              "    }\n",
              "</style>\n",
              "<table border=\"1\" class=\"dataframe\">\n",
              "  <thead>\n",
              "    <tr style=\"text-align: right;\">\n",
              "      <th></th>\n",
              "      <th>year</th>\n",
              "      <th>age</th>\n",
              "      <th>occCode</th>\n",
              "      <th>occupation</th>\n",
              "      <th>prestg10</th>\n",
              "      <th>childs</th>\n",
              "      <th>wrkstat</th>\n",
              "      <th>gender</th>\n",
              "      <th>education</th>\n",
              "      <th>maritalstat</th>\n",
              "      <th>Income</th>\n",
              "    </tr>\n",
              "  </thead>\n",
              "  <tbody>\n",
              "    <tr>\n",
              "      <th>year</th>\n",
              "      <td>1.000000</td>\n",
              "      <td>0.122136</td>\n",
              "      <td>-0.138342</td>\n",
              "      <td>0.041066</td>\n",
              "      <td>0.053993</td>\n",
              "      <td>-0.049419</td>\n",
              "      <td>0.006467</td>\n",
              "      <td>-0.040146</td>\n",
              "      <td>-0.134936</td>\n",
              "      <td>0.001571</td>\n",
              "      <td>0.040294</td>\n",
              "    </tr>\n",
              "    <tr>\n",
              "      <th>age</th>\n",
              "      <td>0.122136</td>\n",
              "      <td>1.000000</td>\n",
              "      <td>-0.074917</td>\n",
              "      <td>-0.045407</td>\n",
              "      <td>0.094423</td>\n",
              "      <td>0.411834</td>\n",
              "      <td>0.015697</td>\n",
              "      <td>0.018038</td>\n",
              "      <td>0.031615</td>\n",
              "      <td>-0.087782</td>\n",
              "      <td>0.187272</td>\n",
              "    </tr>\n",
              "    <tr>\n",
              "      <th>occCode</th>\n",
              "      <td>-0.138342</td>\n",
              "      <td>-0.074917</td>\n",
              "      <td>1.000000</td>\n",
              "      <td>0.219256</td>\n",
              "      <td>-0.504625</td>\n",
              "      <td>0.065448</td>\n",
              "      <td>0.044089</td>\n",
              "      <td>0.134924</td>\n",
              "      <td>0.354734</td>\n",
              "      <td>0.018800</td>\n",
              "      <td>-0.200767</td>\n",
              "    </tr>\n",
              "    <tr>\n",
              "      <th>occupation</th>\n",
              "      <td>0.041066</td>\n",
              "      <td>-0.045407</td>\n",
              "      <td>0.219256</td>\n",
              "      <td>1.000000</td>\n",
              "      <td>-0.186747</td>\n",
              "      <td>-0.000016</td>\n",
              "      <td>0.068870</td>\n",
              "      <td>-0.139870</td>\n",
              "      <td>0.098514</td>\n",
              "      <td>0.061733</td>\n",
              "      <td>-0.227866</td>\n",
              "    </tr>\n",
              "    <tr>\n",
              "      <th>prestg10</th>\n",
              "      <td>0.053993</td>\n",
              "      <td>0.094423</td>\n",
              "      <td>-0.504625</td>\n",
              "      <td>-0.186747</td>\n",
              "      <td>1.000000</td>\n",
              "      <td>-0.036697</td>\n",
              "      <td>-0.110139</td>\n",
              "      <td>0.015594</td>\n",
              "      <td>-0.393575</td>\n",
              "      <td>-0.075233</td>\n",
              "      <td>0.383188</td>\n",
              "    </tr>\n",
              "    <tr>\n",
              "      <th>childs</th>\n",
              "      <td>-0.049419</td>\n",
              "      <td>0.411834</td>\n",
              "      <td>0.065448</td>\n",
              "      <td>-0.000016</td>\n",
              "      <td>-0.036697</td>\n",
              "      <td>1.000000</td>\n",
              "      <td>-0.006416</td>\n",
              "      <td>-0.024016</td>\n",
              "      <td>0.186209</td>\n",
              "      <td>-0.145979</td>\n",
              "      <td>0.030869</td>\n",
              "    </tr>\n",
              "    <tr>\n",
              "      <th>wrkstat</th>\n",
              "      <td>0.006467</td>\n",
              "      <td>0.015697</td>\n",
              "      <td>0.044089</td>\n",
              "      <td>0.068870</td>\n",
              "      <td>-0.110139</td>\n",
              "      <td>-0.006416</td>\n",
              "      <td>1.000000</td>\n",
              "      <td>-0.064167</td>\n",
              "      <td>0.092041</td>\n",
              "      <td>0.096847</td>\n",
              "      <td>-0.295563</td>\n",
              "    </tr>\n",
              "    <tr>\n",
              "      <th>gender</th>\n",
              "      <td>-0.040146</td>\n",
              "      <td>0.018038</td>\n",
              "      <td>0.134924</td>\n",
              "      <td>-0.139870</td>\n",
              "      <td>0.015594</td>\n",
              "      <td>-0.024016</td>\n",
              "      <td>-0.064167</td>\n",
              "      <td>1.000000</td>\n",
              "      <td>0.021745</td>\n",
              "      <td>-0.030661</td>\n",
              "      <td>0.301595</td>\n",
              "    </tr>\n",
              "    <tr>\n",
              "      <th>education</th>\n",
              "      <td>-0.134936</td>\n",
              "      <td>0.031615</td>\n",
              "      <td>0.354734</td>\n",
              "      <td>0.098514</td>\n",
              "      <td>-0.393575</td>\n",
              "      <td>0.186209</td>\n",
              "      <td>0.092041</td>\n",
              "      <td>0.021745</td>\n",
              "      <td>1.000000</td>\n",
              "      <td>0.047270</td>\n",
              "      <td>-0.291688</td>\n",
              "    </tr>\n",
              "    <tr>\n",
              "      <th>maritalstat</th>\n",
              "      <td>0.001571</td>\n",
              "      <td>-0.087782</td>\n",
              "      <td>0.018800</td>\n",
              "      <td>0.061733</td>\n",
              "      <td>-0.075233</td>\n",
              "      <td>-0.145979</td>\n",
              "      <td>0.096847</td>\n",
              "      <td>-0.030661</td>\n",
              "      <td>0.047270</td>\n",
              "      <td>1.000000</td>\n",
              "      <td>-0.154211</td>\n",
              "    </tr>\n",
              "    <tr>\n",
              "      <th>Income</th>\n",
              "      <td>0.040294</td>\n",
              "      <td>0.187272</td>\n",
              "      <td>-0.200767</td>\n",
              "      <td>-0.227866</td>\n",
              "      <td>0.383188</td>\n",
              "      <td>0.030869</td>\n",
              "      <td>-0.295563</td>\n",
              "      <td>0.301595</td>\n",
              "      <td>-0.291688</td>\n",
              "      <td>-0.154211</td>\n",
              "      <td>1.000000</td>\n",
              "    </tr>\n",
              "  </tbody>\n",
              "</table>\n",
              "</div>"
            ],
            "text/plain": [
              "                 year       age   occCode  ...  education  maritalstat    Income\n",
              "year         1.000000  0.122136 -0.138342  ...  -0.134936     0.001571  0.040294\n",
              "age          0.122136  1.000000 -0.074917  ...   0.031615    -0.087782  0.187272\n",
              "occCode     -0.138342 -0.074917  1.000000  ...   0.354734     0.018800 -0.200767\n",
              "occupation   0.041066 -0.045407  0.219256  ...   0.098514     0.061733 -0.227866\n",
              "prestg10     0.053993  0.094423 -0.504625  ...  -0.393575    -0.075233  0.383188\n",
              "childs      -0.049419  0.411834  0.065448  ...   0.186209    -0.145979  0.030869\n",
              "wrkstat      0.006467  0.015697  0.044089  ...   0.092041     0.096847 -0.295563\n",
              "gender      -0.040146  0.018038  0.134924  ...   0.021745    -0.030661  0.301595\n",
              "education   -0.134936  0.031615  0.354734  ...   1.000000     0.047270 -0.291688\n",
              "maritalstat  0.001571 -0.087782  0.018800  ...   0.047270     1.000000 -0.154211\n",
              "Income       0.040294  0.187272 -0.200767  ...  -0.291688    -0.154211  1.000000\n",
              "\n",
              "[11 rows x 11 columns]"
            ]
          },
          "metadata": {},
          "execution_count": 102
        }
      ]
    },
    {
      "cell_type": "code",
      "metadata": {
        "id": "uf9zlTaz3Cqr"
      },
      "source": [
        "male = df1['Income'].where(df1['gender'] == 1).mean()\n",
        "male"
      ],
      "id": "uf9zlTaz3Cqr",
      "execution_count": null,
      "outputs": []
    },
    {
      "cell_type": "markdown",
      "metadata": {
        "id": "y4nt7gNBkHNI"
      },
      "source": [
        "### Lasso and Ridge"
      ],
      "id": "y4nt7gNBkHNI"
    },
    {
      "cell_type": "code",
      "metadata": {
        "id": "363ad576",
        "colab": {
          "base_uri": "https://localhost:8080/"
        },
        "outputId": "a32e7611-c58d-4cfa-f501-c37592e0fa27"
      },
      "source": [
        "corr = df1.corr()\n",
        "corr_target = abs(corr['Income'])\n",
        "print(df1.columns[corr_target > 0.2][:-1])\n",
        "\n",
        "df1.columns[abs(df1.corr()['Income']) > 0.2][:-1]"
      ],
      "id": "363ad576",
      "execution_count": null,
      "outputs": [
        {
          "output_type": "stream",
          "name": "stdout",
          "text": [
            "Index(['occCode', 'occupation', 'prestg10', 'wrkstat', 'gender', 'education'], dtype='object')\n"
          ]
        },
        {
          "output_type": "execute_result",
          "data": {
            "text/plain": [
              "Index(['occCode', 'occupation', 'prestg10', 'wrkstat', 'gender', 'education'], dtype='object')"
            ]
          },
          "metadata": {},
          "execution_count": 75
        }
      ]
    },
    {
      "cell_type": "code",
      "metadata": {
        "id": "6ee4ad4d",
        "colab": {
          "base_uri": "https://localhost:8080/",
          "height": 290
        },
        "outputId": "a3310d2d-22e2-421e-c08c-ec02f737dfd5"
      },
      "source": [
        "Y.hist()"
      ],
      "id": "6ee4ad4d",
      "execution_count": null,
      "outputs": [
        {
          "output_type": "execute_result",
          "data": {
            "text/plain": [
              "<matplotlib.axes._subplots.AxesSubplot at 0x7f078f82df10>"
            ]
          },
          "metadata": {},
          "execution_count": 79
        },
        {
          "output_type": "display_data",
          "data": {
            "image/png": "[encoded data removed]",
            "text/plain": [
              "<Figure size 432x288 with 1 Axes>"
            ]
          },
          "metadata": {
            "needs_background": "light"
          }
        }
      ]
    },
    {
      "cell_type": "code",
      "metadata": {
        "id": "D__kt9NArTmQ"
      },
      "source": [
        "from sklearn.model_selection import train_test_split\n",
        "X_train, X_test, y_train, y_test = train_test_split(X, Y,test_size=0.30, random_state=7)"
      ],
      "id": "D__kt9NArTmQ",
      "execution_count": null,
      "outputs": []
    },
    {
      "cell_type": "code",
      "metadata": {
        "colab": {
          "base_uri": "https://localhost:8080/"
        },
        "id": "cBpRFq7Xrcoi",
        "outputId": "38224a40-84fe-49c1-ad18-7138e0f64720"
      },
      "source": [
        "# --> more simpler model  (BUT can be underfitting)\n",
        "from sklearn.linear_model import Lasso\n",
        "lasso = Lasso(alpha=.02)\n",
        "lasso.fit(X_train, Y_train)\n",
        "lasso.coef_"
      ],
      "id": "cBpRFq7Xrcoi",
      "execution_count": null,
      "outputs": [
        {
          "output_type": "execute_result",
          "data": {
            "text/plain": [
              "array([ 0.00783266,  0.0208801 , -0.        , -0.05571545,  0.02649117,\n",
              "        0.00752205, -0.1509274 ,  0.78826717, -0.23752277, -0.08928812])"
            ]
          },
          "metadata": {},
          "execution_count": 83
        }
      ]
    },
    {
      "cell_type": "code",
      "metadata": {
        "id": "gvYCLiM1tIWY"
      },
      "source": [
        "X_train_new = pd.DataFrame(X_train)"
      ],
      "id": "gvYCLiM1tIWY",
      "execution_count": null,
      "outputs": []
    },
    {
      "cell_type": "code",
      "metadata": {
        "colab": {
          "base_uri": "https://localhost:8080/"
        },
        "id": "3tZGofj1rgtG",
        "outputId": "1f0f0742-233c-471e-c3f9-f028f22d4539"
      },
      "source": [
        "for c, l_v in zip(X_train_new.columns, lasso.coef_):\n",
        "    print(c,l_v)"
      ],
      "id": "3tZGofj1rgtG",
      "execution_count": null,
      "outputs": [
        {
          "output_type": "stream",
          "name": "stdout",
          "text": [
            "0 0.007785297034848433\n",
            "1 0.020462138431874548\n",
            "2 -0.052763901044870054\n",
            "3 -0.053920579630485695\n",
            "4 0.025626156462905118\n",
            "5 0.012866121644782695\n",
            "6 -0.15207132697500253\n",
            "7 0.8355819599593415\n",
            "8 -0.24468192480960083\n",
            "9 -0.10251995027040618\n"
          ]
        }
      ]
    },
    {
      "cell_type": "code",
      "metadata": {
        "colab": {
          "base_uri": "https://localhost:8080/"
        },
        "id": "la7FVdJQV7ie",
        "outputId": "7d48f960-37b8-4577-f851-fd1997e63e3f"
      },
      "source": [
        "selected_columns = X_train_new.columns[lasso.coef_ !=0 ]\n",
        "selected_columns"
      ],
      "id": "la7FVdJQV7ie",
      "execution_count": null,
      "outputs": [
        {
          "output_type": "execute_result",
          "data": {
            "text/plain": [
              "Int64Index([0, 1, 3, 4, 5, 6, 7, 8, 9], dtype='int64')"
            ]
          },
          "metadata": {},
          "execution_count": 91
        }
      ]
    },
    {
      "cell_type": "code",
      "metadata": {
        "colab": {
          "base_uri": "https://localhost:8080/",
          "height": 112
        },
        "id": "oRGSy-6DXtV7",
        "outputId": "e09ebcc0-feea-4fb2-b428-285cc1c2e5a0"
      },
      "source": [
        "df1.head(2)"
      ],
      "id": "oRGSy-6DXtV7",
      "execution_count": null,
      "outputs": [
        {
          "output_type": "execute_result",
          "data": {
            "text/html": [
              "<div>\n",
              "<style scoped>\n",
              "    .dataframe tbody tr th:only-of-type {\n",
              "        vertical-align: middle;\n",
              "    }\n",
              "\n",
              "    .dataframe tbody tr th {\n",
              "        vertical-align: top;\n",
              "    }\n",
              "\n",
              "    .dataframe thead th {\n",
              "        text-align: right;\n",
              "    }\n",
              "</style>\n",
              "<table border=\"1\" class=\"dataframe\">\n",
              "  <thead>\n",
              "    <tr style=\"text-align: right;\">\n",
              "      <th></th>\n",
              "      <th>year</th>\n",
              "      <th>age</th>\n",
              "      <th>occCode</th>\n",
              "      <th>occupation</th>\n",
              "      <th>prestg10</th>\n",
              "      <th>childs</th>\n",
              "      <th>wrkstat</th>\n",
              "      <th>gender</th>\n",
              "      <th>education</th>\n",
              "      <th>maritalstat</th>\n",
              "      <th>Income</th>\n",
              "    </tr>\n",
              "  </thead>\n",
              "  <tbody>\n",
              "    <tr>\n",
              "      <th>0</th>\n",
              "      <td>1974</td>\n",
              "      <td>21</td>\n",
              "      <td>0.561730</td>\n",
              "      <td>5</td>\n",
              "      <td>25</td>\n",
              "      <td>0</td>\n",
              "      <td>5</td>\n",
              "      <td>1</td>\n",
              "      <td>2</td>\n",
              "      <td>1</td>\n",
              "      <td>0</td>\n",
              "    </tr>\n",
              "    <tr>\n",
              "      <th>1</th>\n",
              "      <td>1974</td>\n",
              "      <td>41</td>\n",
              "      <td>0.203264</td>\n",
              "      <td>7</td>\n",
              "      <td>66</td>\n",
              "      <td>3</td>\n",
              "      <td>0</td>\n",
              "      <td>1</td>\n",
              "      <td>0</td>\n",
              "      <td>1</td>\n",
              "      <td>3</td>\n",
              "    </tr>\n",
              "  </tbody>\n",
              "</table>\n",
              "</div>"
            ],
            "text/plain": [
              "   year  age   occCode  occupation  ...  gender  education  maritalstat  Income\n",
              "0  1974   21  0.561730           5  ...       1          2            1       0\n",
              "1  1974   41  0.203264           7  ...       1          0            1       3\n",
              "\n",
              "[2 rows x 11 columns]"
            ]
          },
          "metadata": {},
          "execution_count": 92
        }
      ]
    },
    {
      "cell_type": "code",
      "metadata": {
        "colab": {
          "base_uri": "https://localhost:8080/"
        },
        "id": "BDI_DzRlX59Z",
        "outputId": "376efdd7-940f-4e0c-eb57-5638c91fbf47"
      },
      "source": [
        "from sklearn.linear_model import Ridge\n",
        "ridge = Ridge(alpha=100)\n",
        "ridge.fit(X_train,Y_train)\n",
        "ridge.coef_"
      ],
      "id": "BDI_DzRlX59Z",
      "execution_count": null,
      "outputs": [
        {
          "output_type": "execute_result",
          "data": {
            "text/plain": [
              "array([ 0.00741858,  0.01989286, -0.26481907, -0.04819179,  0.02354663,\n",
              "        0.01889495, -0.15345619,  0.88392357, -0.24427342, -0.11652935])"
            ]
          },
          "metadata": {},
          "execution_count": 94
        }
      ]
    },
    {
      "cell_type": "code",
      "metadata": {
        "colab": {
          "base_uri": "https://localhost:8080/"
        },
        "id": "8Be1YoMZYNPZ",
        "outputId": "8e77a805-267d-4cdd-a1f7-8a056f00afd9"
      },
      "source": [
        "for c, r_v in zip(X_train_new.columns, ridge.coef_):\n",
        "    print(c,r_v)"
      ],
      "id": "8Be1YoMZYNPZ",
      "execution_count": null,
      "outputs": [
        {
          "output_type": "stream",
          "name": "stdout",
          "text": [
            "0 0.007418583566890174\n",
            "1 0.019892864342813756\n",
            "2 -0.26481906969729196\n",
            "3 -0.04819179465797267\n",
            "4 0.023546627111057365\n",
            "5 0.01889494528940266\n",
            "6 -0.15345618846744127\n",
            "7 0.8839235710419129\n",
            "8 -0.24427341577544012\n",
            "9 -0.11652934682864499\n"
          ]
        }
      ]
    },
    {
      "cell_type": "markdown",
      "metadata": {
        "id": "JOjxLtYyFhIG"
      },
      "source": [
        "### Testing Model"
      ],
      "id": "JOjxLtYyFhIG"
    },
    {
      "cell_type": "code",
      "metadata": {
        "colab": {
          "base_uri": "https://localhost:8080/",
          "height": 112
        },
        "id": "B8uW3JCzKjs-",
        "outputId": "d4a54118-ef76-4e49-e275-ee40bcefb3c3"
      },
      "source": [
        "df1.head(2)"
      ],
      "id": "B8uW3JCzKjs-",
      "execution_count": null,
      "outputs": [
        {
          "output_type": "execute_result",
          "data": {
            "text/html": [
              "<div>\n",
              "<style scoped>\n",
              "    .dataframe tbody tr th:only-of-type {\n",
              "        vertical-align: middle;\n",
              "    }\n",
              "\n",
              "    .dataframe tbody tr th {\n",
              "        vertical-align: top;\n",
              "    }\n",
              "\n",
              "    .dataframe thead th {\n",
              "        text-align: right;\n",
              "    }\n",
              "</style>\n",
              "<table border=\"1\" class=\"dataframe\">\n",
              "  <thead>\n",
              "    <tr style=\"text-align: right;\">\n",
              "      <th></th>\n",
              "      <th>year</th>\n",
              "      <th>age</th>\n",
              "      <th>occCode</th>\n",
              "      <th>occupation</th>\n",
              "      <th>prestg10</th>\n",
              "      <th>childs</th>\n",
              "      <th>wrkstat</th>\n",
              "      <th>gender</th>\n",
              "      <th>education</th>\n",
              "      <th>maritalstat</th>\n",
              "      <th>Income</th>\n",
              "    </tr>\n",
              "  </thead>\n",
              "  <tbody>\n",
              "    <tr>\n",
              "      <th>0</th>\n",
              "      <td>1974</td>\n",
              "      <td>21</td>\n",
              "      <td>5620</td>\n",
              "      <td>5</td>\n",
              "      <td>25</td>\n",
              "      <td>0</td>\n",
              "      <td>5</td>\n",
              "      <td>0</td>\n",
              "      <td>1</td>\n",
              "      <td>1</td>\n",
              "      <td>0</td>\n",
              "    </tr>\n",
              "    <tr>\n",
              "      <th>1</th>\n",
              "      <td>1974</td>\n",
              "      <td>41</td>\n",
              "      <td>2040</td>\n",
              "      <td>7</td>\n",
              "      <td>66</td>\n",
              "      <td>3</td>\n",
              "      <td>0</td>\n",
              "      <td>0</td>\n",
              "      <td>3</td>\n",
              "      <td>1</td>\n",
              "      <td>3</td>\n",
              "    </tr>\n",
              "  </tbody>\n",
              "</table>\n",
              "</div>"
            ],
            "text/plain": [
              "   year  age  occCode  occupation  ...  gender  education  maritalstat  Income\n",
              "0  1974   21     5620           5  ...       0          1            1       0\n",
              "1  1974   41     2040           7  ...       0          3            1       3\n",
              "\n",
              "[2 rows x 11 columns]"
            ]
          },
          "metadata": {},
          "execution_count": 83
        }
      ]
    },
    {
      "cell_type": "code",
      "metadata": {
        "colab": {
          "base_uri": "https://localhost:8080/"
        },
        "id": "BXRg7OpIGxBw",
        "outputId": "e0ef7c20-592e-4148-d7ea-fedda4aed50f"
      },
      "source": [
        "X_test[1,:]"
      ],
      "id": "BXRg7OpIGxBw",
      "execution_count": null,
      "outputs": [
        {
          "output_type": "execute_result",
          "data": {
            "text/plain": [
              "array([2001,   34, 4010,    9,   38,    1,    0,    0,    1,    2])"
            ]
          },
          "metadata": {},
          "execution_count": 75
        }
      ]
    },
    {
      "cell_type": "code",
      "metadata": {
        "id": "DNUjfubSYSYE",
        "colab": {
          "base_uri": "https://localhost:8080/"
        },
        "outputId": "7aeb51df-0eae-47f9-e26e-510f1b5f1d42"
      },
      "source": [
        "Sample = (1974,21,5620,5,25,0,5,0,1,1)\n",
        "Test = np.array(Sample)\n",
        "Test=Test.reshape(1,-1)\n",
        "Result= rfc.predict(Test)\n",
        "Result"
      ],
      "id": "DNUjfubSYSYE",
      "execution_count": null,
      "outputs": [
        {
          "output_type": "stream",
          "name": "stdout",
          "text": [
            "(10,)\n",
            "(1, 10)\n"
          ]
        },
        {
          "output_type": "execute_result",
          "data": {
            "text/plain": [
              "array([0])"
            ]
          },
          "metadata": {},
          "execution_count": 84
        }
      ]
    },
    {
      "cell_type": "markdown",
      "metadata": {
        "id": "sX3EwFTSLCQm"
      },
      "source": [
        "# Conclusion\n",
        "After passing the data elements we got the predicted value as similar to the original test dataframe"
      ],
      "id": "sX3EwFTSLCQm"
    }
  ]
}